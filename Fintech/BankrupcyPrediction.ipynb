{
  "nbformat": 4,
  "nbformat_minor": 0,
  "metadata": {
    "colab": {
      "provenance": []
    },
    "kernelspec": {
      "name": "python3",
      "display_name": "Python 3"
    },
    "language_info": {
      "name": "python"
    }
  },
  "cells": [
    {
      "cell_type": "markdown",
      "source": [
        "# Status prediction in the American Bankruptcy dataset."
      ],
      "metadata": {
        "id": "MR-TaScWR27s"
      }
    },
    {
      "cell_type": "markdown",
      "source": [
        "## Import Usefull Libraries"
      ],
      "metadata": {
        "id": "h_ZkAmFsRQuv"
      }
    },
    {
      "cell_type": "code",
      "execution_count": 1,
      "metadata": {
        "id": "FLyQV9Q6Nu4Y"
      },
      "outputs": [],
      "source": [
        "import numpy as np\n",
        "import pandas as pd\n",
        "pd.set_option('display.max_columns', 60)\n",
        "import math\n",
        "import csv\n",
        "from IPython.core.pylabtools import figsize\n",
        "from matplotlib import pyplot as plt\n",
        "import seaborn as sns\n",
        "sns.set_context(font_scale=2)\n",
        "from sklearn.preprocessing import PolynomialFeatures\n",
        "from sklearn import model_selection\n",
        "import warnings\n",
        "import scipy\n",
        "# Ignore all warnings\n",
        "warnings.simplefilter('ignore')\n",
        "from sklearn.neighbors import KNeighborsClassifier\n",
        "from sklearn.ensemble import RandomForestClassifier, ExtraTreesClassifier\n",
        "from xgboost import XGBClassifier\n",
        "from sklearn.svm import LinearSVC,SVC\n",
        "from sklearn.linear_model import LogisticRegression\n",
        "from sklearn.neighbors import KNeighborsClassifier\n",
        "from sklearn.naive_bayes import GaussianNB   \n",
        "from sklearn.tree import DecisionTreeClassifier\n",
        "from sklearn.ensemble import RandomForestClassifier\n",
        "from sklearn.neural_network import MLPClassifier\n",
        "from sklearn.linear_model import LogisticRegression\n",
        "\n",
        "from sklearn import metrics\n",
        "from sklearn.preprocessing import LabelEncoder\n",
        "#train_test_split\n",
        "from sklearn.model_selection import train_test_split, RandomizedSearchCV, GridSearchCV, cross_val_score\n",
        "from sklearn.metrics import accuracy_score, confusion_matrix\n",
        "\n",
        "from sklearn.feature_selection import SelectKBest, f_classif\n",
        "#StandardScaler\n",
        "from sklearn.preprocessing import StandardScaler, MinMaxScaler\n",
        "\n",
        "# Importing cross validation function from sklearn\n",
        "from sklearn.model_selection import cross_val_score\n",
        "\n",
        "#ensemble\n",
        "from sklearn.ensemble import RandomForestClassifier,GradientBoostingClassifier\n",
        "#Principal Component Analysis\n",
        "from sklearn.decomposition import PCA\n",
        "\n",
        "from scipy.stats import f_oneway"
      ]
    },
    {
      "cell_type": "markdown",
      "source": [
        "## Data Preparation \n",
        "- (Load the data,Data cleaning and preprocessing)\n",
        "\n",
        "## Load the data: \n",
        "- The dataset is available in CSV format, so we can load it using a data manipulation library like pandas."
      ],
      "metadata": {
        "id": "0KhPqc3VSZxR"
      }
    },
    {
      "cell_type": "code",
      "source": [
        "import pandas as pd\n",
        "import numpy as np\n",
        "\n",
        "# Load the dataset from the GitHub repository \n",
        "#  data = pd.read_csv('https://github.com/sowide/bankruptcy_dataset/blob/main/american_bankruptcy_dataset.csv')\n",
        "\n",
        "data = pd.read_csv('/content/sample_data/american_bankruptcy_dataset.csv')\n",
        "\n",
        "data.head()"
      ],
      "metadata": {
        "colab": {
          "base_uri": "https://localhost:8080/",
          "height": 270
        },
        "id": "zq_gKAPxOJXa",
        "outputId": "49100155-f1d1-4bf3-b0e4-f61ebf5e43f3"
      },
      "execution_count": 2,
      "outputs": [
        {
          "output_type": "execute_result",
          "data": {
            "text/plain": [
              "  company_name status_label    year       X1       X2      X3      X4  \\\n",
              "0          C_1        alive  1999.0  511.267  833.107  18.373  89.031   \n",
              "1          C_1        alive  2000.0  485.856  713.811  18.577  64.367   \n",
              "2          C_1        alive  2001.0  436.656  526.477  22.496  27.207   \n",
              "3          C_1        alive  2002.0  396.412  496.747  27.172  30.745   \n",
              "4          C_1        alive  2003.0  432.204  523.302  26.680  47.491   \n",
              "\n",
              "        X5      X6       X7        X8        X9      X10      X11     X12  \\\n",
              "0  336.018  35.163  128.348  372.7519  1024.333  740.998  180.447  70.658   \n",
              "1  320.590  18.531  115.187  377.1180   874.255  701.854  179.987  45.790   \n",
              "2  286.588 -58.939   77.528  364.5928   638.721  710.199  217.699   4.711   \n",
              "3  259.954 -12.410   66.322  143.3295   606.337  686.621  164.658   3.573   \n",
              "4  247.245   3.504  104.661  308.9071   651.958  709.292  248.666  20.811   \n",
              "\n",
              "       X13      X14      X15       X16      X17      X18  \n",
              "0  191.226  163.816  201.026  1024.333  401.483  935.302  \n",
              "1  160.444  125.392  204.065   874.255  361.642  809.888  \n",
              "2  112.244  150.464  139.603   638.721  399.964  611.514  \n",
              "3  109.590  203.575  124.106   606.337  391.633  575.592  \n",
              "4  128.656  131.261  131.884   651.958  407.608  604.467  "
            ],
            "text/html": [
              "\n",
              "  <div id=\"df-dcb7324d-ff28-4b04-be78-ffc5261ab243\">\n",
              "    <div class=\"colab-df-container\">\n",
              "      <div>\n",
              "<style scoped>\n",
              "    .dataframe tbody tr th:only-of-type {\n",
              "        vertical-align: middle;\n",
              "    }\n",
              "\n",
              "    .dataframe tbody tr th {\n",
              "        vertical-align: top;\n",
              "    }\n",
              "\n",
              "    .dataframe thead th {\n",
              "        text-align: right;\n",
              "    }\n",
              "</style>\n",
              "<table border=\"1\" class=\"dataframe\">\n",
              "  <thead>\n",
              "    <tr style=\"text-align: right;\">\n",
              "      <th></th>\n",
              "      <th>company_name</th>\n",
              "      <th>status_label</th>\n",
              "      <th>year</th>\n",
              "      <th>X1</th>\n",
              "      <th>X2</th>\n",
              "      <th>X3</th>\n",
              "      <th>X4</th>\n",
              "      <th>X5</th>\n",
              "      <th>X6</th>\n",
              "      <th>X7</th>\n",
              "      <th>X8</th>\n",
              "      <th>X9</th>\n",
              "      <th>X10</th>\n",
              "      <th>X11</th>\n",
              "      <th>X12</th>\n",
              "      <th>X13</th>\n",
              "      <th>X14</th>\n",
              "      <th>X15</th>\n",
              "      <th>X16</th>\n",
              "      <th>X17</th>\n",
              "      <th>X18</th>\n",
              "    </tr>\n",
              "  </thead>\n",
              "  <tbody>\n",
              "    <tr>\n",
              "      <th>0</th>\n",
              "      <td>C_1</td>\n",
              "      <td>alive</td>\n",
              "      <td>1999.0</td>\n",
              "      <td>511.267</td>\n",
              "      <td>833.107</td>\n",
              "      <td>18.373</td>\n",
              "      <td>89.031</td>\n",
              "      <td>336.018</td>\n",
              "      <td>35.163</td>\n",
              "      <td>128.348</td>\n",
              "      <td>372.7519</td>\n",
              "      <td>1024.333</td>\n",
              "      <td>740.998</td>\n",
              "      <td>180.447</td>\n",
              "      <td>70.658</td>\n",
              "      <td>191.226</td>\n",
              "      <td>163.816</td>\n",
              "      <td>201.026</td>\n",
              "      <td>1024.333</td>\n",
              "      <td>401.483</td>\n",
              "      <td>935.302</td>\n",
              "    </tr>\n",
              "    <tr>\n",
              "      <th>1</th>\n",
              "      <td>C_1</td>\n",
              "      <td>alive</td>\n",
              "      <td>2000.0</td>\n",
              "      <td>485.856</td>\n",
              "      <td>713.811</td>\n",
              "      <td>18.577</td>\n",
              "      <td>64.367</td>\n",
              "      <td>320.590</td>\n",
              "      <td>18.531</td>\n",
              "      <td>115.187</td>\n",
              "      <td>377.1180</td>\n",
              "      <td>874.255</td>\n",
              "      <td>701.854</td>\n",
              "      <td>179.987</td>\n",
              "      <td>45.790</td>\n",
              "      <td>160.444</td>\n",
              "      <td>125.392</td>\n",
              "      <td>204.065</td>\n",
              "      <td>874.255</td>\n",
              "      <td>361.642</td>\n",
              "      <td>809.888</td>\n",
              "    </tr>\n",
              "    <tr>\n",
              "      <th>2</th>\n",
              "      <td>C_1</td>\n",
              "      <td>alive</td>\n",
              "      <td>2001.0</td>\n",
              "      <td>436.656</td>\n",
              "      <td>526.477</td>\n",
              "      <td>22.496</td>\n",
              "      <td>27.207</td>\n",
              "      <td>286.588</td>\n",
              "      <td>-58.939</td>\n",
              "      <td>77.528</td>\n",
              "      <td>364.5928</td>\n",
              "      <td>638.721</td>\n",
              "      <td>710.199</td>\n",
              "      <td>217.699</td>\n",
              "      <td>4.711</td>\n",
              "      <td>112.244</td>\n",
              "      <td>150.464</td>\n",
              "      <td>139.603</td>\n",
              "      <td>638.721</td>\n",
              "      <td>399.964</td>\n",
              "      <td>611.514</td>\n",
              "    </tr>\n",
              "    <tr>\n",
              "      <th>3</th>\n",
              "      <td>C_1</td>\n",
              "      <td>alive</td>\n",
              "      <td>2002.0</td>\n",
              "      <td>396.412</td>\n",
              "      <td>496.747</td>\n",
              "      <td>27.172</td>\n",
              "      <td>30.745</td>\n",
              "      <td>259.954</td>\n",
              "      <td>-12.410</td>\n",
              "      <td>66.322</td>\n",
              "      <td>143.3295</td>\n",
              "      <td>606.337</td>\n",
              "      <td>686.621</td>\n",
              "      <td>164.658</td>\n",
              "      <td>3.573</td>\n",
              "      <td>109.590</td>\n",
              "      <td>203.575</td>\n",
              "      <td>124.106</td>\n",
              "      <td>606.337</td>\n",
              "      <td>391.633</td>\n",
              "      <td>575.592</td>\n",
              "    </tr>\n",
              "    <tr>\n",
              "      <th>4</th>\n",
              "      <td>C_1</td>\n",
              "      <td>alive</td>\n",
              "      <td>2003.0</td>\n",
              "      <td>432.204</td>\n",
              "      <td>523.302</td>\n",
              "      <td>26.680</td>\n",
              "      <td>47.491</td>\n",
              "      <td>247.245</td>\n",
              "      <td>3.504</td>\n",
              "      <td>104.661</td>\n",
              "      <td>308.9071</td>\n",
              "      <td>651.958</td>\n",
              "      <td>709.292</td>\n",
              "      <td>248.666</td>\n",
              "      <td>20.811</td>\n",
              "      <td>128.656</td>\n",
              "      <td>131.261</td>\n",
              "      <td>131.884</td>\n",
              "      <td>651.958</td>\n",
              "      <td>407.608</td>\n",
              "      <td>604.467</td>\n",
              "    </tr>\n",
              "  </tbody>\n",
              "</table>\n",
              "</div>\n",
              "      <button class=\"colab-df-convert\" onclick=\"convertToInteractive('df-dcb7324d-ff28-4b04-be78-ffc5261ab243')\"\n",
              "              title=\"Convert this dataframe to an interactive table.\"\n",
              "              style=\"display:none;\">\n",
              "        \n",
              "  <svg xmlns=\"http://www.w3.org/2000/svg\" height=\"24px\"viewBox=\"0 0 24 24\"\n",
              "       width=\"24px\">\n",
              "    <path d=\"M0 0h24v24H0V0z\" fill=\"none\"/>\n",
              "    <path d=\"M18.56 5.44l.94 2.06.94-2.06 2.06-.94-2.06-.94-.94-2.06-.94 2.06-2.06.94zm-11 1L8.5 8.5l.94-2.06 2.06-.94-2.06-.94L8.5 2.5l-.94 2.06-2.06.94zm10 10l.94 2.06.94-2.06 2.06-.94-2.06-.94-.94-2.06-.94 2.06-2.06.94z\"/><path d=\"M17.41 7.96l-1.37-1.37c-.4-.4-.92-.59-1.43-.59-.52 0-1.04.2-1.43.59L10.3 9.45l-7.72 7.72c-.78.78-.78 2.05 0 2.83L4 21.41c.39.39.9.59 1.41.59.51 0 1.02-.2 1.41-.59l7.78-7.78 2.81-2.81c.8-.78.8-2.07 0-2.86zM5.41 20L4 18.59l7.72-7.72 1.47 1.35L5.41 20z\"/>\n",
              "  </svg>\n",
              "      </button>\n",
              "      \n",
              "  <style>\n",
              "    .colab-df-container {\n",
              "      display:flex;\n",
              "      flex-wrap:wrap;\n",
              "      gap: 12px;\n",
              "    }\n",
              "\n",
              "    .colab-df-convert {\n",
              "      background-color: #E8F0FE;\n",
              "      border: none;\n",
              "      border-radius: 50%;\n",
              "      cursor: pointer;\n",
              "      display: none;\n",
              "      fill: #1967D2;\n",
              "      height: 32px;\n",
              "      padding: 0 0 0 0;\n",
              "      width: 32px;\n",
              "    }\n",
              "\n",
              "    .colab-df-convert:hover {\n",
              "      background-color: #E2EBFA;\n",
              "      box-shadow: 0px 1px 2px rgba(60, 64, 67, 0.3), 0px 1px 3px 1px rgba(60, 64, 67, 0.15);\n",
              "      fill: #174EA6;\n",
              "    }\n",
              "\n",
              "    [theme=dark] .colab-df-convert {\n",
              "      background-color: #3B4455;\n",
              "      fill: #D2E3FC;\n",
              "    }\n",
              "\n",
              "    [theme=dark] .colab-df-convert:hover {\n",
              "      background-color: #434B5C;\n",
              "      box-shadow: 0px 1px 3px 1px rgba(0, 0, 0, 0.15);\n",
              "      filter: drop-shadow(0px 1px 2px rgba(0, 0, 0, 0.3));\n",
              "      fill: #FFFFFF;\n",
              "    }\n",
              "  </style>\n",
              "\n",
              "      <script>\n",
              "        const buttonEl =\n",
              "          document.querySelector('#df-dcb7324d-ff28-4b04-be78-ffc5261ab243 button.colab-df-convert');\n",
              "        buttonEl.style.display =\n",
              "          google.colab.kernel.accessAllowed ? 'block' : 'none';\n",
              "\n",
              "        async function convertToInteractive(key) {\n",
              "          const element = document.querySelector('#df-dcb7324d-ff28-4b04-be78-ffc5261ab243');\n",
              "          const dataTable =\n",
              "            await google.colab.kernel.invokeFunction('convertToInteractive',\n",
              "                                                     [key], {});\n",
              "          if (!dataTable) return;\n",
              "\n",
              "          const docLinkHtml = 'Like what you see? Visit the ' +\n",
              "            '<a target=\"_blank\" href=https://colab.research.google.com/notebooks/data_table.ipynb>data table notebook</a>'\n",
              "            + ' to learn more about interactive tables.';\n",
              "          element.innerHTML = '';\n",
              "          dataTable['output_type'] = 'display_data';\n",
              "          await google.colab.output.renderOutput(dataTable, element);\n",
              "          const docLink = document.createElement('div');\n",
              "          docLink.innerHTML = docLinkHtml;\n",
              "          element.appendChild(docLink);\n",
              "        }\n",
              "      </script>\n",
              "    </div>\n",
              "  </div>\n",
              "  "
            ]
          },
          "metadata": {},
          "execution_count": 2
        }
      ]
    },
    {
      "cell_type": "markdown",
      "source": [
        "- Problem statement:\n",
        "Create a Predictive model which can tell weather a company is alive or not?\n",
        "-- Target Variable: status_label\n",
        "-- Predictors: X1,X2,X3, etc.\n",
        "\n",
        "- Determining the type of Machine Learning:\n",
        "Based on this problem statement we need to create a supervised ML classification model, as the target variable is categorical."
      ],
      "metadata": {
        "id": "EnRfDPvWXtZx"
      }
    },
    {
      "cell_type": "code",
      "source": [
        "# Distribution of Target variable\n",
        "# Creating Bar chart as the Target variable is Categorical\n",
        "GroupedData=data.groupby('status_label').size()\n",
        "GroupedData.plot(kind='bar', figsize=(4,3))"
      ],
      "metadata": {
        "colab": {
          "base_uri": "https://localhost:8080/",
          "height": 262
        },
        "id": "1YNcotCBZbHX",
        "outputId": "02eac5cf-c917-4e0d-845f-bb5396f5229b"
      },
      "execution_count": 3,
      "outputs": [
        {
          "output_type": "execute_result",
          "data": {
            "text/plain": [
              "<Axes: xlabel='status_label'>"
            ]
          },
          "metadata": {},
          "execution_count": 3
        },
        {
          "output_type": "display_data",
          "data": {
            "text/plain": [
              "<Figure size 288x216 with 1 Axes>"
            ],
            "image/png": "[encoded data removed]"
          },
          "metadata": {
            "needs_background": "light"
          }
        }
      ]
    },
    {
      "cell_type": "markdown",
      "source": [
        "There are quite sufficient number of rows for each category to learn from."
      ],
      "metadata": {
        "id": "on_Vry1YZ70w"
      }
    },
    {
      "cell_type": "markdown",
      "source": [
        "## Data cleaning and preprocessing: \n",
        "\n",
        "This step involves removing any missing or erroneous data, , dropping irrelevant columns, handling categorical variables (e.g., one-hot encoding or label encoding, or converting categorical variables into numerical variables), scaling numerical features (if needed), and splitting the data into training and testing sets.\n"
      ],
      "metadata": {
        "id": "N84O6fq0jGFB"
      }
    },
    {
      "cell_type": "markdown",
      "source": [
        "### Data Exploration\n",
        "--> Check if all features are numeric. We have to check this becuase some algorithms can only handle the numeric data. "
      ],
      "metadata": {
        "id": "mOszwjxGaE_E"
      }
    },
    {
      "cell_type": "code",
      "source": [
        "print(\"Shape of data: \", data.shape)\n",
        "display(data.info())"
      ],
      "metadata": {
        "colab": {
          "base_uri": "https://localhost:8080/",
          "height": 553
        },
        "id": "Ty_5gr2dUXHj",
        "outputId": "d02987e3-a0ce-4a88-e640-7dd58f76216a"
      },
      "execution_count": 4,
      "outputs": [
        {
          "output_type": "stream",
          "name": "stdout",
          "text": [
            "Shape of data:  (6290, 21)\n",
            "<class 'pandas.core.frame.DataFrame'>\n",
            "RangeIndex: 6290 entries, 0 to 6289\n",
            "Data columns (total 21 columns):\n",
            " #   Column        Non-Null Count  Dtype  \n",
            "---  ------        --------------  -----  \n",
            " 0   company_name  6290 non-null   object \n",
            " 1   status_label  6290 non-null   object \n",
            " 2   year          6290 non-null   float64\n",
            " 3   X1            6290 non-null   float64\n",
            " 4   X2            6290 non-null   float64\n",
            " 5   X3            6290 non-null   float64\n",
            " 6   X4            6290 non-null   float64\n",
            " 7   X5            6290 non-null   float64\n",
            " 8   X6            6290 non-null   float64\n",
            " 9   X7            6290 non-null   float64\n",
            " 10  X8            6290 non-null   float64\n",
            " 11  X9            6290 non-null   float64\n",
            " 12  X10           6290 non-null   float64\n",
            " 13  X11           6290 non-null   float64\n",
            " 14  X12           6289 non-null   float64\n",
            " 15  X13           6289 non-null   float64\n",
            " 16  X14           6289 non-null   float64\n",
            " 17  X15           6289 non-null   float64\n",
            " 18  X16           6289 non-null   float64\n",
            " 19  X17           6289 non-null   float64\n",
            " 20  X18           6289 non-null   float64\n",
            "dtypes: float64(19), object(2)\n",
            "memory usage: 1.0+ MB\n"
          ]
        },
        {
          "output_type": "display_data",
          "data": {
            "text/plain": [
              "None"
            ]
          },
          "metadata": {}
        }
      ]
    },
    {
      "cell_type": "code",
      "source": [
        "data.describe(include='all')"
      ],
      "metadata": {
        "colab": {
          "base_uri": "https://localhost:8080/",
          "height": 458
        },
        "id": "kjqTbg41aTCa",
        "outputId": "08c84722-b0a7-4c53-d286-a1827a4f797b"
      },
      "execution_count": 5,
      "outputs": [
        {
          "output_type": "execute_result",
          "data": {
            "text/plain": [
              "       company_name status_label         year            X1             X2  \\\n",
              "count          6290         6290  6290.000000    6290.00000    6290.000000   \n",
              "unique          516            2          NaN           NaN            NaN   \n",
              "top           C_259        alive          NaN           NaN            NaN   \n",
              "freq             20         5895          NaN           NaN            NaN   \n",
              "mean            NaN          NaN  2006.788076    2080.14120    3536.803080   \n",
              "std             NaN          NaN     5.592889    6269.45095   11794.485495   \n",
              "min             NaN          NaN  1999.000000       0.00100       0.000000   \n",
              "25%             NaN          NaN  2002.000000      45.01350      63.847000   \n",
              "50%             NaN          NaN  2006.000000     275.95900     468.108500   \n",
              "75%             NaN          NaN  2011.000000    1454.45975    2402.221750   \n",
              "max             NaN          NaN  2018.000000  131339.00000  203649.000000   \n",
              "\n",
              "                  X3            X4            X5            X6            X7  \\\n",
              "count    6290.000000   6290.000000   6290.000000   6290.000000   6290.000000   \n",
              "unique           NaN           NaN           NaN           NaN           NaN   \n",
              "top              NaN           NaN           NaN           NaN           NaN   \n",
              "freq             NaN           NaN           NaN           NaN           NaN   \n",
              "mean      319.631010   1002.896339    498.955552    384.472663    706.454561   \n",
              "std      1287.160209   3927.227594   2018.991217   2170.923830   2124.333249   \n",
              "min         0.000000 -21913.000000      0.000000 -23119.000000      0.000000   \n",
              "25%         3.326500      7.170500      6.124750      0.271500     11.765750   \n",
              "50%        28.536500     82.528000     43.792500     18.599000     88.026500   \n",
              "75%       159.313500    541.825000    341.260500    183.731250    482.959500   \n",
              "max     21037.000000  81730.000000  62567.000000  59531.000000  48995.000000   \n",
              "\n",
              "                  X8             X9            X10            X11  \\\n",
              "count   6.290000e+03    6290.000000    6290.000000    6290.000000   \n",
              "unique           NaN            NaN            NaN            NaN   \n",
              "top              NaN            NaN            NaN            NaN   \n",
              "freq             NaN            NaN            NaN            NaN   \n",
              "mean    7.810865e+03    5330.743260    7393.114362    1821.207897   \n",
              "std     3.144973e+04   16465.751197   23395.318770    6142.261311   \n",
              "min     1.900000e-03       0.001000       0.002000       0.000000   \n",
              "25%     6.311852e+01      98.598750      87.623750       1.731250   \n",
              "50%     6.387940e+02     776.202500     725.309000     102.111500   \n",
              "75%     3.850635e+03    3773.972000    4297.107500    1047.320250   \n",
              "max     1.073391e+06  265359.000000  375319.000000  113642.000000   \n",
              "\n",
              "                 X12            X13           X14            X15  \\\n",
              "count    6289.000000    6289.000000    6289.00000    6289.000000   \n",
              "unique           NaN            NaN           NaN            NaN   \n",
              "top              NaN            NaN           NaN            NaN   \n",
              "freq             NaN            NaN           NaN            NaN   \n",
              "mean      683.372802    1794.212347    1587.18360    1834.358423   \n",
              "std      2934.039210    5887.982326    5109.95688    8586.344518   \n",
              "min    -25913.000000  -21536.000000       0.00700  -78525.000000   \n",
              "25%         3.058000      27.208000      18.99700       3.538000   \n",
              "50%        47.888000     215.000000     149.80800     133.130000   \n",
              "75%       368.183000    1268.000000     939.28000    1075.200000   \n",
              "max     71230.000000  112506.000000  116866.00000  180128.000000   \n",
              "\n",
              "                  X16            X17            X18  \n",
              "count     6289.000000    6289.000000    6289.000000  \n",
              "unique            NaN            NaN            NaN  \n",
              "top               NaN            NaN            NaN  \n",
              "freq              NaN            NaN            NaN  \n",
              "mean      5331.573087    4757.584366    4328.518650  \n",
              "std      16466.928907   15049.858870   13226.671275  \n",
              "min          0.001000       0.007000       0.009000  \n",
              "25%         98.592000      35.739000      87.795000  \n",
              "50%        778.205000     352.151000     660.234000  \n",
              "75%       3774.296000    2804.660000    3039.400000  \n",
              "max     265359.000000  258578.000000  209874.000000  "
            ],
            "text/html": [
              "\n",
              "  <div id=\"df-e394b9ab-999b-4228-927a-03b51486d17d\">\n",
              "    <div class=\"colab-df-container\">\n",
              "      <div>\n",
              "<style scoped>\n",
              "    .dataframe tbody tr th:only-of-type {\n",
              "        vertical-align: middle;\n",
              "    }\n",
              "\n",
              "    .dataframe tbody tr th {\n",
              "        vertical-align: top;\n",
              "    }\n",
              "\n",
              "    .dataframe thead th {\n",
              "        text-align: right;\n",
              "    }\n",
              "</style>\n",
              "<table border=\"1\" class=\"dataframe\">\n",
              "  <thead>\n",
              "    <tr style=\"text-align: right;\">\n",
              "      <th></th>\n",
              "      <th>company_name</th>\n",
              "      <th>status_label</th>\n",
              "      <th>year</th>\n",
              "      <th>X1</th>\n",
              "      <th>X2</th>\n",
              "      <th>X3</th>\n",
              "      <th>X4</th>\n",
              "      <th>X5</th>\n",
              "      <th>X6</th>\n",
              "      <th>X7</th>\n",
              "      <th>X8</th>\n",
              "      <th>X9</th>\n",
              "      <th>X10</th>\n",
              "      <th>X11</th>\n",
              "      <th>X12</th>\n",
              "      <th>X13</th>\n",
              "      <th>X14</th>\n",
              "      <th>X15</th>\n",
              "      <th>X16</th>\n",
              "      <th>X17</th>\n",
              "      <th>X18</th>\n",
              "    </tr>\n",
              "  </thead>\n",
              "  <tbody>\n",
              "    <tr>\n",
              "      <th>count</th>\n",
              "      <td>6290</td>\n",
              "      <td>6290</td>\n",
              "      <td>6290.000000</td>\n",
              "      <td>6290.00000</td>\n",
              "      <td>6290.000000</td>\n",
              "      <td>6290.000000</td>\n",
              "      <td>6290.000000</td>\n",
              "      <td>6290.000000</td>\n",
              "      <td>6290.000000</td>\n",
              "      <td>6290.000000</td>\n",
              "      <td>6.290000e+03</td>\n",
              "      <td>6290.000000</td>\n",
              "      <td>6290.000000</td>\n",
              "      <td>6290.000000</td>\n",
              "      <td>6289.000000</td>\n",
              "      <td>6289.000000</td>\n",
              "      <td>6289.00000</td>\n",
              "      <td>6289.000000</td>\n",
              "      <td>6289.000000</td>\n",
              "      <td>6289.000000</td>\n",
              "      <td>6289.000000</td>\n",
              "    </tr>\n",
              "    <tr>\n",
              "      <th>unique</th>\n",
              "      <td>516</td>\n",
              "      <td>2</td>\n",
              "      <td>NaN</td>\n",
              "      <td>NaN</td>\n",
              "      <td>NaN</td>\n",
              "      <td>NaN</td>\n",
              "      <td>NaN</td>\n",
              "      <td>NaN</td>\n",
              "      <td>NaN</td>\n",
              "      <td>NaN</td>\n",
              "      <td>NaN</td>\n",
              "      <td>NaN</td>\n",
              "      <td>NaN</td>\n",
              "      <td>NaN</td>\n",
              "      <td>NaN</td>\n",
              "      <td>NaN</td>\n",
              "      <td>NaN</td>\n",
              "      <td>NaN</td>\n",
              "      <td>NaN</td>\n",
              "      <td>NaN</td>\n",
              "      <td>NaN</td>\n",
              "    </tr>\n",
              "    <tr>\n",
              "      <th>top</th>\n",
              "      <td>C_259</td>\n",
              "      <td>alive</td>\n",
              "      <td>NaN</td>\n",
              "      <td>NaN</td>\n",
              "      <td>NaN</td>\n",
              "      <td>NaN</td>\n",
              "      <td>NaN</td>\n",
              "      <td>NaN</td>\n",
              "      <td>NaN</td>\n",
              "      <td>NaN</td>\n",
              "      <td>NaN</td>\n",
              "      <td>NaN</td>\n",
              "      <td>NaN</td>\n",
              "      <td>NaN</td>\n",
              "      <td>NaN</td>\n",
              "      <td>NaN</td>\n",
              "      <td>NaN</td>\n",
              "      <td>NaN</td>\n",
              "      <td>NaN</td>\n",
              "      <td>NaN</td>\n",
              "      <td>NaN</td>\n",
              "    </tr>\n",
              "    <tr>\n",
              "      <th>freq</th>\n",
              "      <td>20</td>\n",
              "      <td>5895</td>\n",
              "      <td>NaN</td>\n",
              "      <td>NaN</td>\n",
              "      <td>NaN</td>\n",
              "      <td>NaN</td>\n",
              "      <td>NaN</td>\n",
              "      <td>NaN</td>\n",
              "      <td>NaN</td>\n",
              "      <td>NaN</td>\n",
              "      <td>NaN</td>\n",
              "      <td>NaN</td>\n",
              "      <td>NaN</td>\n",
              "      <td>NaN</td>\n",
              "      <td>NaN</td>\n",
              "      <td>NaN</td>\n",
              "      <td>NaN</td>\n",
              "      <td>NaN</td>\n",
              "      <td>NaN</td>\n",
              "      <td>NaN</td>\n",
              "      <td>NaN</td>\n",
              "    </tr>\n",
              "    <tr>\n",
              "      <th>mean</th>\n",
              "      <td>NaN</td>\n",
              "      <td>NaN</td>\n",
              "      <td>2006.788076</td>\n",
              "      <td>2080.14120</td>\n",
              "      <td>3536.803080</td>\n",
              "      <td>319.631010</td>\n",
              "      <td>1002.896339</td>\n",
              "      <td>498.955552</td>\n",
              "      <td>384.472663</td>\n",
              "      <td>706.454561</td>\n",
              "      <td>7.810865e+03</td>\n",
              "      <td>5330.743260</td>\n",
              "      <td>7393.114362</td>\n",
              "      <td>1821.207897</td>\n",
              "      <td>683.372802</td>\n",
              "      <td>1794.212347</td>\n",
              "      <td>1587.18360</td>\n",
              "      <td>1834.358423</td>\n",
              "      <td>5331.573087</td>\n",
              "      <td>4757.584366</td>\n",
              "      <td>4328.518650</td>\n",
              "    </tr>\n",
              "    <tr>\n",
              "      <th>std</th>\n",
              "      <td>NaN</td>\n",
              "      <td>NaN</td>\n",
              "      <td>5.592889</td>\n",
              "      <td>6269.45095</td>\n",
              "      <td>11794.485495</td>\n",
              "      <td>1287.160209</td>\n",
              "      <td>3927.227594</td>\n",
              "      <td>2018.991217</td>\n",
              "      <td>2170.923830</td>\n",
              "      <td>2124.333249</td>\n",
              "      <td>3.144973e+04</td>\n",
              "      <td>16465.751197</td>\n",
              "      <td>23395.318770</td>\n",
              "      <td>6142.261311</td>\n",
              "      <td>2934.039210</td>\n",
              "      <td>5887.982326</td>\n",
              "      <td>5109.95688</td>\n",
              "      <td>8586.344518</td>\n",
              "      <td>16466.928907</td>\n",
              "      <td>15049.858870</td>\n",
              "      <td>13226.671275</td>\n",
              "    </tr>\n",
              "    <tr>\n",
              "      <th>min</th>\n",
              "      <td>NaN</td>\n",
              "      <td>NaN</td>\n",
              "      <td>1999.000000</td>\n",
              "      <td>0.00100</td>\n",
              "      <td>0.000000</td>\n",
              "      <td>0.000000</td>\n",
              "      <td>-21913.000000</td>\n",
              "      <td>0.000000</td>\n",
              "      <td>-23119.000000</td>\n",
              "      <td>0.000000</td>\n",
              "      <td>1.900000e-03</td>\n",
              "      <td>0.001000</td>\n",
              "      <td>0.002000</td>\n",
              "      <td>0.000000</td>\n",
              "      <td>-25913.000000</td>\n",
              "      <td>-21536.000000</td>\n",
              "      <td>0.00700</td>\n",
              "      <td>-78525.000000</td>\n",
              "      <td>0.001000</td>\n",
              "      <td>0.007000</td>\n",
              "      <td>0.009000</td>\n",
              "    </tr>\n",
              "    <tr>\n",
              "      <th>25%</th>\n",
              "      <td>NaN</td>\n",
              "      <td>NaN</td>\n",
              "      <td>2002.000000</td>\n",
              "      <td>45.01350</td>\n",
              "      <td>63.847000</td>\n",
              "      <td>3.326500</td>\n",
              "      <td>7.170500</td>\n",
              "      <td>6.124750</td>\n",
              "      <td>0.271500</td>\n",
              "      <td>11.765750</td>\n",
              "      <td>6.311852e+01</td>\n",
              "      <td>98.598750</td>\n",
              "      <td>87.623750</td>\n",
              "      <td>1.731250</td>\n",
              "      <td>3.058000</td>\n",
              "      <td>27.208000</td>\n",
              "      <td>18.99700</td>\n",
              "      <td>3.538000</td>\n",
              "      <td>98.592000</td>\n",
              "      <td>35.739000</td>\n",
              "      <td>87.795000</td>\n",
              "    </tr>\n",
              "    <tr>\n",
              "      <th>50%</th>\n",
              "      <td>NaN</td>\n",
              "      <td>NaN</td>\n",
              "      <td>2006.000000</td>\n",
              "      <td>275.95900</td>\n",
              "      <td>468.108500</td>\n",
              "      <td>28.536500</td>\n",
              "      <td>82.528000</td>\n",
              "      <td>43.792500</td>\n",
              "      <td>18.599000</td>\n",
              "      <td>88.026500</td>\n",
              "      <td>6.387940e+02</td>\n",
              "      <td>776.202500</td>\n",
              "      <td>725.309000</td>\n",
              "      <td>102.111500</td>\n",
              "      <td>47.888000</td>\n",
              "      <td>215.000000</td>\n",
              "      <td>149.80800</td>\n",
              "      <td>133.130000</td>\n",
              "      <td>778.205000</td>\n",
              "      <td>352.151000</td>\n",
              "      <td>660.234000</td>\n",
              "    </tr>\n",
              "    <tr>\n",
              "      <th>75%</th>\n",
              "      <td>NaN</td>\n",
              "      <td>NaN</td>\n",
              "      <td>2011.000000</td>\n",
              "      <td>1454.45975</td>\n",
              "      <td>2402.221750</td>\n",
              "      <td>159.313500</td>\n",
              "      <td>541.825000</td>\n",
              "      <td>341.260500</td>\n",
              "      <td>183.731250</td>\n",
              "      <td>482.959500</td>\n",
              "      <td>3.850635e+03</td>\n",
              "      <td>3773.972000</td>\n",
              "      <td>4297.107500</td>\n",
              "      <td>1047.320250</td>\n",
              "      <td>368.183000</td>\n",
              "      <td>1268.000000</td>\n",
              "      <td>939.28000</td>\n",
              "      <td>1075.200000</td>\n",
              "      <td>3774.296000</td>\n",
              "      <td>2804.660000</td>\n",
              "      <td>3039.400000</td>\n",
              "    </tr>\n",
              "    <tr>\n",
              "      <th>max</th>\n",
              "      <td>NaN</td>\n",
              "      <td>NaN</td>\n",
              "      <td>2018.000000</td>\n",
              "      <td>131339.00000</td>\n",
              "      <td>203649.000000</td>\n",
              "      <td>21037.000000</td>\n",
              "      <td>81730.000000</td>\n",
              "      <td>62567.000000</td>\n",
              "      <td>59531.000000</td>\n",
              "      <td>48995.000000</td>\n",
              "      <td>1.073391e+06</td>\n",
              "      <td>265359.000000</td>\n",
              "      <td>375319.000000</td>\n",
              "      <td>113642.000000</td>\n",
              "      <td>71230.000000</td>\n",
              "      <td>112506.000000</td>\n",
              "      <td>116866.00000</td>\n",
              "      <td>180128.000000</td>\n",
              "      <td>265359.000000</td>\n",
              "      <td>258578.000000</td>\n",
              "      <td>209874.000000</td>\n",
              "    </tr>\n",
              "  </tbody>\n",
              "</table>\n",
              "</div>\n",
              "      <button class=\"colab-df-convert\" onclick=\"convertToInteractive('df-e394b9ab-999b-4228-927a-03b51486d17d')\"\n",
              "              title=\"Convert this dataframe to an interactive table.\"\n",
              "              style=\"display:none;\">\n",
              "        \n",
              "  <svg xmlns=\"http://www.w3.org/2000/svg\" height=\"24px\"viewBox=\"0 0 24 24\"\n",
              "       width=\"24px\">\n",
              "    <path d=\"M0 0h24v24H0V0z\" fill=\"none\"/>\n",
              "    <path d=\"M18.56 5.44l.94 2.06.94-2.06 2.06-.94-2.06-.94-.94-2.06-.94 2.06-2.06.94zm-11 1L8.5 8.5l.94-2.06 2.06-.94-2.06-.94L8.5 2.5l-.94 2.06-2.06.94zm10 10l.94 2.06.94-2.06 2.06-.94-2.06-.94-.94-2.06-.94 2.06-2.06.94z\"/><path d=\"M17.41 7.96l-1.37-1.37c-.4-.4-.92-.59-1.43-.59-.52 0-1.04.2-1.43.59L10.3 9.45l-7.72 7.72c-.78.78-.78 2.05 0 2.83L4 21.41c.39.39.9.59 1.41.59.51 0 1.02-.2 1.41-.59l7.78-7.78 2.81-2.81c.8-.78.8-2.07 0-2.86zM5.41 20L4 18.59l7.72-7.72 1.47 1.35L5.41 20z\"/>\n",
              "  </svg>\n",
              "      </button>\n",
              "      \n",
              "  <style>\n",
              "    .colab-df-container {\n",
              "      display:flex;\n",
              "      flex-wrap:wrap;\n",
              "      gap: 12px;\n",
              "    }\n",
              "\n",
              "    .colab-df-convert {\n",
              "      background-color: #E8F0FE;\n",
              "      border: none;\n",
              "      border-radius: 50%;\n",
              "      cursor: pointer;\n",
              "      display: none;\n",
              "      fill: #1967D2;\n",
              "      height: 32px;\n",
              "      padding: 0 0 0 0;\n",
              "      width: 32px;\n",
              "    }\n",
              "\n",
              "    .colab-df-convert:hover {\n",
              "      background-color: #E2EBFA;\n",
              "      box-shadow: 0px 1px 2px rgba(60, 64, 67, 0.3), 0px 1px 3px 1px rgba(60, 64, 67, 0.15);\n",
              "      fill: #174EA6;\n",
              "    }\n",
              "\n",
              "    [theme=dark] .colab-df-convert {\n",
              "      background-color: #3B4455;\n",
              "      fill: #D2E3FC;\n",
              "    }\n",
              "\n",
              "    [theme=dark] .colab-df-convert:hover {\n",
              "      background-color: #434B5C;\n",
              "      box-shadow: 0px 1px 3px 1px rgba(0, 0, 0, 0.15);\n",
              "      filter: drop-shadow(0px 1px 2px rgba(0, 0, 0, 0.3));\n",
              "      fill: #FFFFFF;\n",
              "    }\n",
              "  </style>\n",
              "\n",
              "      <script>\n",
              "        const buttonEl =\n",
              "          document.querySelector('#df-e394b9ab-999b-4228-927a-03b51486d17d button.colab-df-convert');\n",
              "        buttonEl.style.display =\n",
              "          google.colab.kernel.accessAllowed ? 'block' : 'none';\n",
              "\n",
              "        async function convertToInteractive(key) {\n",
              "          const element = document.querySelector('#df-e394b9ab-999b-4228-927a-03b51486d17d');\n",
              "          const dataTable =\n",
              "            await google.colab.kernel.invokeFunction('convertToInteractive',\n",
              "                                                     [key], {});\n",
              "          if (!dataTable) return;\n",
              "\n",
              "          const docLinkHtml = 'Like what you see? Visit the ' +\n",
              "            '<a target=\"_blank\" href=https://colab.research.google.com/notebooks/data_table.ipynb>data table notebook</a>'\n",
              "            + ' to learn more about interactive tables.';\n",
              "          element.innerHTML = '';\n",
              "          dataTable['output_type'] = 'display_data';\n",
              "          await google.colab.output.renderOutput(dataTable, element);\n",
              "          const docLink = document.createElement('div');\n",
              "          docLink.innerHTML = docLinkHtml;\n",
              "          element.appendChild(docLink);\n",
              "        }\n",
              "      </script>\n",
              "    </div>\n",
              "  </div>\n",
              "  "
            ]
          },
          "metadata": {},
          "execution_count": 5
        }
      ]
    },
    {
      "cell_type": "code",
      "source": [
        "# Drop irrelevant columns\n",
        "data.drop(['company_name', 'year'], axis=1, inplace=True)\n",
        "\n",
        "# Convert categorical variables to numerical variables\n",
        "data['status_label'] = data['status_label'].apply(lambda x: 1 if x == 'alive' else 0)"
      ],
      "metadata": {
        "id": "kh_vfTIJSoXD"
      },
      "execution_count": 6,
      "outputs": []
    },
    {
      "cell_type": "markdown",
      "source": [
        "### Visual Exploratory Data Analysis\n",
        "- Categorical variables: Bar plot\n",
        "- Continuous variables: Histogram"
      ],
      "metadata": {
        "id": "40hNu1GShLyW"
      }
    },
    {
      "cell_type": "code",
      "source": [
        "# Plotting histograms of multiple columns together\n",
        "data.hist(['X{}'.format(i) for i in range(1,19)], figsize=(18,10),bins=15)"
      ],
      "metadata": {
        "colab": {
          "base_uri": "https://localhost:8080/",
          "height": 787
        },
        "id": "aBYaLvBehDZB",
        "outputId": "8d90bb31-ce8c-4eb0-a041-a8dfd0155df0"
      },
      "execution_count": 38,
      "outputs": [
        {
          "output_type": "execute_result",
          "data": {
            "text/plain": [
              "array([[<Axes: title={'center': 'X1'}>, <Axes: title={'center': 'X2'}>,\n",
              "        <Axes: title={'center': 'X3'}>, <Axes: title={'center': 'X4'}>],\n",
              "       [<Axes: title={'center': 'X5'}>, <Axes: title={'center': 'X6'}>,\n",
              "        <Axes: title={'center': 'X7'}>, <Axes: title={'center': 'X8'}>],\n",
              "       [<Axes: title={'center': 'X9'}>, <Axes: title={'center': 'X10'}>,\n",
              "        <Axes: title={'center': 'X11'}>, <Axes: title={'center': 'X12'}>],\n",
              "       [<Axes: title={'center': 'X13'}>, <Axes: title={'center': 'X14'}>,\n",
              "        <Axes: title={'center': 'X15'}>, <Axes: title={'center': 'X16'}>],\n",
              "       [<Axes: title={'center': 'X17'}>, <Axes: title={'center': 'X18'}>,\n",
              "        <Axes: >, <Axes: >]], dtype=object)"
            ]
          },
          "metadata": {},
          "execution_count": 38
        },
        {
          "output_type": "display_data",
          "data": {
            "text/plain": [
              "<Figure size 1296x720 with 20 Axes>"
            ],
            "image/png": "[encoded data removed]"
          },
          "metadata": {
            "needs_background": "light"
          }
        }
      ]
    },
    {
      "cell_type": "markdown",
      "source": [
        "If there is a column which shows too skewed distribution where there is only one dominant bar and the other categories are present in very low numbers, these kind of columns may not be very helpful in machine learning. We confirm this in the correlation analysis section and take a final call to select or reject the column."
      ],
      "metadata": {
        "id": "zErtzc9JiUjr"
      }
    },
    {
      "cell_type": "markdown",
      "source": [
        "### Anomalies & Outliers treatment\n",
        "Outliers are extreme values in the data which are far away from most of the values. You can see them as the tails in the histogram.\n",
        "\n",
        "Extreme outliers are data points that are significantly different from the rest of the data in a dataset. They can have a significant impact on the statistical properties of the data and can affect the performance of machine learning models. The extreme outliers is the points where \n",
        "\n",
        "    - x < Q1 - 3 * IQR       \n",
        "    - x > Q3 + 3 * IQR\n",
        "   \n",
        "where IQR = third_quartile - first_quartile"
      ],
      "metadata": {
        "id": "aPJi-aIefNU5"
      }
    },
    {
      "cell_type": "code",
      "source": [
        "def outlier_function(df, col_name):\n",
        "    first_quartile = np.percentile(np.array(df[col_name].tolist()), 25)\n",
        "    third_quartile = np.percentile(np.array(df[col_name].tolist()), 75)\n",
        "    IQR = third_quartile - first_quartile\n",
        "                      \n",
        "    upper_limit = third_quartile+(3*IQR)\n",
        "    lower_limit = first_quartile-(3*IQR)\n",
        "    outlier_count = 0\n",
        "                      \n",
        "    for value in df[col_name].tolist():\n",
        "        if (value < lower_limit) | (value > upper_limit):\n",
        "            outlier_count +=1\n",
        "    return lower_limit, upper_limit, outlier_count"
      ],
      "metadata": {
        "id": "hMz8IVuhfedl"
      },
      "execution_count": 31,
      "outputs": []
    },
    {
      "cell_type": "code",
      "source": [
        "# loop through all columns to see if there are any outliers\n",
        "for column in data.columns:\n",
        "    if outlier_function(data, column)[2] > 0:\n",
        "        print(\"There are {} outliers in {}\".format(outlier_function(data, column)[2], column))"
      ],
      "metadata": {
        "colab": {
          "base_uri": "https://localhost:8080/"
        },
        "id": "tBwnf_S0feve",
        "outputId": "968210b4-5d40-4781-cfef-675f10f78dbb"
      },
      "execution_count": 32,
      "outputs": [
        {
          "output_type": "stream",
          "name": "stdout",
          "text": [
            "There are 5220 outliers in status_label\n",
            "There are 7603 outliers in X1\n",
            "There are 8262 outliers in X2\n",
            "There are 8267 outliers in X3\n",
            "There are 8784 outliers in X4\n",
            "There are 9215 outliers in X5\n",
            "There are 11876 outliers in X6\n",
            "There are 7831 outliers in X7\n",
            "There are 8261 outliers in X8\n",
            "There are 7998 outliers in X9\n",
            "There are 8412 outliers in X10\n",
            "There are 9592 outliers in X11\n",
            "There are 9434 outliers in X12\n",
            "There are 7881 outliers in X13\n",
            "There are 8738 outliers in X14\n",
            "There are 12455 outliers in X15\n",
            "There are 7998 outliers in X16\n",
            "There are 9273 outliers in X17\n",
            "There are 7968 outliers in X18\n"
          ]
        }
      ]
    },
    {
      "cell_type": "markdown",
      "source": [
        "* Comments: There are many rows with our contraints of anormality, i don't think, it is worth to delete all them (we will be reducing the size of the dataset which can't be good for ML). Therefore, we can do further preprocesing."
      ],
      "metadata": {
        "id": "uEXEhElHuKyx"
      }
    },
    {
      "cell_type": "markdown",
      "source": [
        "### Missing values treatment\n",
        "-> Check if there is no missing value in dataset because some machine learning algorithms cannot handle missing values and will produce an error or produce incorrect results if the data contains missing values.\n",
        "\n",
        "Options for treating missing values in data.\n",
        "- Delete the rows if there are only few records\n",
        "- Impute the missing values with MEDIAN value for continuous variables\n",
        "- Impute the missing values with MODE value for categorical variables\n",
        "- Interpolate the values based on nearby values, business logic etc."
      ],
      "metadata": {
        "id": "DGyrboOxb4Z2"
      }
    },
    {
      "cell_type": "code",
      "source": [
        "data.isnull().sum()"
      ],
      "metadata": {
        "colab": {
          "base_uri": "https://localhost:8080/"
        },
        "id": "FOu8Bpg5bIx-",
        "outputId": "3f323727-03fa-45a5-ce48-bfaef4421a9e"
      },
      "execution_count": 11,
      "outputs": [
        {
          "output_type": "execute_result",
          "data": {
            "text/plain": [
              "status_label    0\n",
              "X1              0\n",
              "X2              0\n",
              "X3              0\n",
              "X4              0\n",
              "X5              0\n",
              "X6              0\n",
              "X7              0\n",
              "X8              0\n",
              "X9              0\n",
              "X10             0\n",
              "X11             0\n",
              "X12             1\n",
              "X13             1\n",
              "X14             1\n",
              "X15             1\n",
              "X16             1\n",
              "X17             1\n",
              "X18             1\n",
              "dtype: int64"
            ]
          },
          "metadata": {},
          "execution_count": 11
        }
      ]
    },
    {
      "cell_type": "code",
      "source": [
        "# Replace missing values with the median of the respective column\n",
        "data.fillna(data.median(), inplace=True)"
      ],
      "metadata": {
        "id": "dLFAk14hajqV"
      },
      "execution_count": 12,
      "outputs": []
    },
    {
      "cell_type": "code",
      "source": [
        "data.isnull().sum().sum()"
      ],
      "metadata": {
        "colab": {
          "base_uri": "https://localhost:8080/"
        },
        "id": "xpslrcuBchLJ",
        "outputId": "fb7c0260-d8c7-4bd7-9e1b-e64f3043efe0"
      },
      "execution_count": 13,
      "outputs": [
        {
          "output_type": "execute_result",
          "data": {
            "text/plain": [
              "0"
            ]
          },
          "metadata": {},
          "execution_count": 13
        }
      ]
    },
    {
      "cell_type": "code",
      "source": [
        "display(data.describe())"
      ],
      "metadata": {
        "colab": {
          "base_uri": "https://localhost:8080/",
          "height": 364
        },
        "id": "BFGwXwvmcVcI",
        "outputId": "c98d87fe-2720-43f5-d5e5-997c19dec3c6"
      },
      "execution_count": 19,
      "outputs": [
        {
          "output_type": "display_data",
          "data": {
            "text/plain": [
              "       status_label             X1             X2            X3            X4  \\\n",
              "count  49913.000000   49913.000000   49913.000000  49913.000000  49913.000000   \n",
              "mean       0.934045    1147.536006    2148.749850    161.342461    513.973790   \n",
              "std        0.248205    4645.798315   10885.198054    798.609622   2450.930463   \n",
              "min        0.000000      -0.013000    -366.645000      0.000000 -21913.000000   \n",
              "25%        1.000000      20.726000      22.289000      1.400000      0.373000   \n",
              "50%        1.000000     126.173000     160.158000     10.608000     24.244000   \n",
              "75%        1.000000     581.900000     916.210000     65.379000    200.418000   \n",
              "max        1.000000  169662.000000  374623.000000  28430.000000  81730.000000   \n",
              "\n",
              "                 X5             X6            X7            X8             X9  \\\n",
              "count  49913.000000   49913.000000  49913.000000  4.991300e+04   49913.000000   \n",
              "mean     271.066103     185.807302    380.214707  4.413561e+03    3178.121473   \n",
              "std     1290.029789    1538.832375   1617.312766  2.094088e+04   14561.274499   \n",
              "min        0.000000  -98696.000000     -0.006000  1.000000e-04   -1964.999000   \n",
              "25%        0.537000      -3.921000      4.199000  3.582520e+01      35.569000   \n",
              "50%       14.225000       3.797000     32.053000  2.619500e+02     269.699000   \n",
              "75%      121.515000      62.031000    186.900000  1.637741e+03    1517.307000   \n",
              "max    62567.000000  104821.000000  65812.000000  1.073391e+06  511729.000000   \n",
              "\n",
              "                 X10            X11           X12            X13  \\\n",
              "count   49913.000000   49913.000000  49913.000000   49913.000000   \n",
              "mean     3834.043853     937.841715    352.631122    1029.370517   \n",
              "std     15721.250411    3891.457757   1815.031936    4555.988135   \n",
              "min         0.001000      -0.023000 -25913.000000  -21536.000000   \n",
              "25%        41.369000       0.033000     -0.965000      11.377000   \n",
              "50%       276.924000      15.922000     12.101000      85.153500   \n",
              "75%      1650.557000     349.347000    130.176000     475.793000   \n",
              "max    531864.000000  166250.000000  71230.000000  137106.000000   \n",
              "\n",
              "                 X14            X15            X16            X17  \\\n",
              "count   49913.000000   49913.000000   49913.000000   49913.000000   \n",
              "mean      821.431682     839.978485    3178.121478    2381.736525   \n",
              "std      3574.032809    7850.736104   14561.274498    9826.583609   \n",
              "min         0.001000 -102362.000000   -1964.999000       0.001000   \n",
              "25%         9.883000     -38.820000      35.569000      15.877000   \n",
              "50%        55.716000      12.790000     269.703000     114.760500   \n",
              "75%       316.605000     295.400000    1517.307000     890.196000   \n",
              "max    116866.000000  402089.000000  511729.000000  337980.000000   \n",
              "\n",
              "                 X18  \n",
              "count   49913.000000  \n",
              "mean     2664.148085  \n",
              "std     12688.680033  \n",
              "min      -317.197000  \n",
              "25%        38.073000  \n",
              "50%       235.831000  \n",
              "75%      1266.055000  \n",
              "max    481580.000000  "
            ],
            "text/html": [
              "\n",
              "  <div id=\"df-88af4eef-000f-4c0f-8d19-63a1af017506\">\n",
              "    <div class=\"colab-df-container\">\n",
              "      <div>\n",
              "<style scoped>\n",
              "    .dataframe tbody tr th:only-of-type {\n",
              "        vertical-align: middle;\n",
              "    }\n",
              "\n",
              "    .dataframe tbody tr th {\n",
              "        vertical-align: top;\n",
              "    }\n",
              "\n",
              "    .dataframe thead th {\n",
              "        text-align: right;\n",
              "    }\n",
              "</style>\n",
              "<table border=\"1\" class=\"dataframe\">\n",
              "  <thead>\n",
              "    <tr style=\"text-align: right;\">\n",
              "      <th></th>\n",
              "      <th>status_label</th>\n",
              "      <th>X1</th>\n",
              "      <th>X2</th>\n",
              "      <th>X3</th>\n",
              "      <th>X4</th>\n",
              "      <th>X5</th>\n",
              "      <th>X6</th>\n",
              "      <th>X7</th>\n",
              "      <th>X8</th>\n",
              "      <th>X9</th>\n",
              "      <th>X10</th>\n",
              "      <th>X11</th>\n",
              "      <th>X12</th>\n",
              "      <th>X13</th>\n",
              "      <th>X14</th>\n",
              "      <th>X15</th>\n",
              "      <th>X16</th>\n",
              "      <th>X17</th>\n",
              "      <th>X18</th>\n",
              "    </tr>\n",
              "  </thead>\n",
              "  <tbody>\n",
              "    <tr>\n",
              "      <th>count</th>\n",
              "      <td>49913.000000</td>\n",
              "      <td>49913.000000</td>\n",
              "      <td>49913.000000</td>\n",
              "      <td>49913.000000</td>\n",
              "      <td>49913.000000</td>\n",
              "      <td>49913.000000</td>\n",
              "      <td>49913.000000</td>\n",
              "      <td>49913.000000</td>\n",
              "      <td>4.991300e+04</td>\n",
              "      <td>49913.000000</td>\n",
              "      <td>49913.000000</td>\n",
              "      <td>49913.000000</td>\n",
              "      <td>49913.000000</td>\n",
              "      <td>49913.000000</td>\n",
              "      <td>49913.000000</td>\n",
              "      <td>49913.000000</td>\n",
              "      <td>49913.000000</td>\n",
              "      <td>49913.000000</td>\n",
              "      <td>49913.000000</td>\n",
              "    </tr>\n",
              "    <tr>\n",
              "      <th>mean</th>\n",
              "      <td>0.934045</td>\n",
              "      <td>1147.536006</td>\n",
              "      <td>2148.749850</td>\n",
              "      <td>161.342461</td>\n",
              "      <td>513.973790</td>\n",
              "      <td>271.066103</td>\n",
              "      <td>185.807302</td>\n",
              "      <td>380.214707</td>\n",
              "      <td>4.413561e+03</td>\n",
              "      <td>3178.121473</td>\n",
              "      <td>3834.043853</td>\n",
              "      <td>937.841715</td>\n",
              "      <td>352.631122</td>\n",
              "      <td>1029.370517</td>\n",
              "      <td>821.431682</td>\n",
              "      <td>839.978485</td>\n",
              "      <td>3178.121478</td>\n",
              "      <td>2381.736525</td>\n",
              "      <td>2664.148085</td>\n",
              "    </tr>\n",
              "    <tr>\n",
              "      <th>std</th>\n",
              "      <td>0.248205</td>\n",
              "      <td>4645.798315</td>\n",
              "      <td>10885.198054</td>\n",
              "      <td>798.609622</td>\n",
              "      <td>2450.930463</td>\n",
              "      <td>1290.029789</td>\n",
              "      <td>1538.832375</td>\n",
              "      <td>1617.312766</td>\n",
              "      <td>2.094088e+04</td>\n",
              "      <td>14561.274499</td>\n",
              "      <td>15721.250411</td>\n",
              "      <td>3891.457757</td>\n",
              "      <td>1815.031936</td>\n",
              "      <td>4555.988135</td>\n",
              "      <td>3574.032809</td>\n",
              "      <td>7850.736104</td>\n",
              "      <td>14561.274498</td>\n",
              "      <td>9826.583609</td>\n",
              "      <td>12688.680033</td>\n",
              "    </tr>\n",
              "    <tr>\n",
              "      <th>min</th>\n",
              "      <td>0.000000</td>\n",
              "      <td>-0.013000</td>\n",
              "      <td>-366.645000</td>\n",
              "      <td>0.000000</td>\n",
              "      <td>-21913.000000</td>\n",
              "      <td>0.000000</td>\n",
              "      <td>-98696.000000</td>\n",
              "      <td>-0.006000</td>\n",
              "      <td>1.000000e-04</td>\n",
              "      <td>-1964.999000</td>\n",
              "      <td>0.001000</td>\n",
              "      <td>-0.023000</td>\n",
              "      <td>-25913.000000</td>\n",
              "      <td>-21536.000000</td>\n",
              "      <td>0.001000</td>\n",
              "      <td>-102362.000000</td>\n",
              "      <td>-1964.999000</td>\n",
              "      <td>0.001000</td>\n",
              "      <td>-317.197000</td>\n",
              "    </tr>\n",
              "    <tr>\n",
              "      <th>25%</th>\n",
              "      <td>1.000000</td>\n",
              "      <td>20.726000</td>\n",
              "      <td>22.289000</td>\n",
              "      <td>1.400000</td>\n",
              "      <td>0.373000</td>\n",
              "      <td>0.537000</td>\n",
              "      <td>-3.921000</td>\n",
              "      <td>4.199000</td>\n",
              "      <td>3.582520e+01</td>\n",
              "      <td>35.569000</td>\n",
              "      <td>41.369000</td>\n",
              "      <td>0.033000</td>\n",
              "      <td>-0.965000</td>\n",
              "      <td>11.377000</td>\n",
              "      <td>9.883000</td>\n",
              "      <td>-38.820000</td>\n",
              "      <td>35.569000</td>\n",
              "      <td>15.877000</td>\n",
              "      <td>38.073000</td>\n",
              "    </tr>\n",
              "    <tr>\n",
              "      <th>50%</th>\n",
              "      <td>1.000000</td>\n",
              "      <td>126.173000</td>\n",
              "      <td>160.158000</td>\n",
              "      <td>10.608000</td>\n",
              "      <td>24.244000</td>\n",
              "      <td>14.225000</td>\n",
              "      <td>3.797000</td>\n",
              "      <td>32.053000</td>\n",
              "      <td>2.619500e+02</td>\n",
              "      <td>269.699000</td>\n",
              "      <td>276.924000</td>\n",
              "      <td>15.922000</td>\n",
              "      <td>12.101000</td>\n",
              "      <td>85.153500</td>\n",
              "      <td>55.716000</td>\n",
              "      <td>12.790000</td>\n",
              "      <td>269.703000</td>\n",
              "      <td>114.760500</td>\n",
              "      <td>235.831000</td>\n",
              "    </tr>\n",
              "    <tr>\n",
              "      <th>75%</th>\n",
              "      <td>1.000000</td>\n",
              "      <td>581.900000</td>\n",
              "      <td>916.210000</td>\n",
              "      <td>65.379000</td>\n",
              "      <td>200.418000</td>\n",
              "      <td>121.515000</td>\n",
              "      <td>62.031000</td>\n",
              "      <td>186.900000</td>\n",
              "      <td>1.637741e+03</td>\n",
              "      <td>1517.307000</td>\n",
              "      <td>1650.557000</td>\n",
              "      <td>349.347000</td>\n",
              "      <td>130.176000</td>\n",
              "      <td>475.793000</td>\n",
              "      <td>316.605000</td>\n",
              "      <td>295.400000</td>\n",
              "      <td>1517.307000</td>\n",
              "      <td>890.196000</td>\n",
              "      <td>1266.055000</td>\n",
              "    </tr>\n",
              "    <tr>\n",
              "      <th>max</th>\n",
              "      <td>1.000000</td>\n",
              "      <td>169662.000000</td>\n",
              "      <td>374623.000000</td>\n",
              "      <td>28430.000000</td>\n",
              "      <td>81730.000000</td>\n",
              "      <td>62567.000000</td>\n",
              "      <td>104821.000000</td>\n",
              "      <td>65812.000000</td>\n",
              "      <td>1.073391e+06</td>\n",
              "      <td>511729.000000</td>\n",
              "      <td>531864.000000</td>\n",
              "      <td>166250.000000</td>\n",
              "      <td>71230.000000</td>\n",
              "      <td>137106.000000</td>\n",
              "      <td>116866.000000</td>\n",
              "      <td>402089.000000</td>\n",
              "      <td>511729.000000</td>\n",
              "      <td>337980.000000</td>\n",
              "      <td>481580.000000</td>\n",
              "    </tr>\n",
              "  </tbody>\n",
              "</table>\n",
              "</div>\n",
              "      <button class=\"colab-df-convert\" onclick=\"convertToInteractive('df-88af4eef-000f-4c0f-8d19-63a1af017506')\"\n",
              "              title=\"Convert this dataframe to an interactive table.\"\n",
              "              style=\"display:none;\">\n",
              "        \n",
              "  <svg xmlns=\"http://www.w3.org/2000/svg\" height=\"24px\"viewBox=\"0 0 24 24\"\n",
              "       width=\"24px\">\n",
              "    <path d=\"M0 0h24v24H0V0z\" fill=\"none\"/>\n",
              "    <path d=\"M18.56 5.44l.94 2.06.94-2.06 2.06-.94-2.06-.94-.94-2.06-.94 2.06-2.06.94zm-11 1L8.5 8.5l.94-2.06 2.06-.94-2.06-.94L8.5 2.5l-.94 2.06-2.06.94zm10 10l.94 2.06.94-2.06 2.06-.94-2.06-.94-.94-2.06-.94 2.06-2.06.94z\"/><path d=\"M17.41 7.96l-1.37-1.37c-.4-.4-.92-.59-1.43-.59-.52 0-1.04.2-1.43.59L10.3 9.45l-7.72 7.72c-.78.78-.78 2.05 0 2.83L4 21.41c.39.39.9.59 1.41.59.51 0 1.02-.2 1.41-.59l7.78-7.78 2.81-2.81c.8-.78.8-2.07 0-2.86zM5.41 20L4 18.59l7.72-7.72 1.47 1.35L5.41 20z\"/>\n",
              "  </svg>\n",
              "      </button>\n",
              "      \n",
              "  <style>\n",
              "    .colab-df-container {\n",
              "      display:flex;\n",
              "      flex-wrap:wrap;\n",
              "      gap: 12px;\n",
              "    }\n",
              "\n",
              "    .colab-df-convert {\n",
              "      background-color: #E8F0FE;\n",
              "      border: none;\n",
              "      border-radius: 50%;\n",
              "      cursor: pointer;\n",
              "      display: none;\n",
              "      fill: #1967D2;\n",
              "      height: 32px;\n",
              "      padding: 0 0 0 0;\n",
              "      width: 32px;\n",
              "    }\n",
              "\n",
              "    .colab-df-convert:hover {\n",
              "      background-color: #E2EBFA;\n",
              "      box-shadow: 0px 1px 2px rgba(60, 64, 67, 0.3), 0px 1px 3px 1px rgba(60, 64, 67, 0.15);\n",
              "      fill: #174EA6;\n",
              "    }\n",
              "\n",
              "    [theme=dark] .colab-df-convert {\n",
              "      background-color: #3B4455;\n",
              "      fill: #D2E3FC;\n",
              "    }\n",
              "\n",
              "    [theme=dark] .colab-df-convert:hover {\n",
              "      background-color: #434B5C;\n",
              "      box-shadow: 0px 1px 3px 1px rgba(0, 0, 0, 0.15);\n",
              "      filter: drop-shadow(0px 1px 2px rgba(0, 0, 0, 0.3));\n",
              "      fill: #FFFFFF;\n",
              "    }\n",
              "  </style>\n",
              "\n",
              "      <script>\n",
              "        const buttonEl =\n",
              "          document.querySelector('#df-88af4eef-000f-4c0f-8d19-63a1af017506 button.colab-df-convert');\n",
              "        buttonEl.style.display =\n",
              "          google.colab.kernel.accessAllowed ? 'block' : 'none';\n",
              "\n",
              "        async function convertToInteractive(key) {\n",
              "          const element = document.querySelector('#df-88af4eef-000f-4c0f-8d19-63a1af017506');\n",
              "          const dataTable =\n",
              "            await google.colab.kernel.invokeFunction('convertToInteractive',\n",
              "                                                     [key], {});\n",
              "          if (!dataTable) return;\n",
              "\n",
              "          const docLinkHtml = 'Like what you see? Visit the ' +\n",
              "            '<a target=\"_blank\" href=https://colab.research.google.com/notebooks/data_table.ipynb>data table notebook</a>'\n",
              "            + ' to learn more about interactive tables.';\n",
              "          element.innerHTML = '';\n",
              "          dataTable['output_type'] = 'display_data';\n",
              "          await google.colab.output.renderOutput(dataTable, element);\n",
              "          const docLink = document.createElement('div');\n",
              "          docLink.innerHTML = docLinkHtml;\n",
              "          element.appendChild(docLink);\n",
              "        }\n",
              "      </script>\n",
              "    </div>\n",
              "  </div>\n",
              "  "
            ]
          },
          "metadata": {}
        }
      ]
    },
    {
      "cell_type": "markdown",
      "source": [
        "## Feature Engineering: \n",
        "\n",
        "We can extract new features from the existing variables or transform existing features to improve the predictive power of the model. "
      ],
      "metadata": {
        "id": "cAunUOJWjN7T"
      }
    },
    {
      "cell_type": "code",
      "source": [
        "# Create new features\n",
        "# We need to know the signification of each feature X1,X2, etc."
      ],
      "metadata": {
        "id": "ky2sJJy6cVjy"
      },
      "execution_count": null,
      "outputs": []
    },
    {
      "cell_type": "markdown",
      "source": [
        "## Feature selection: \n",
        "In this step, we can identify the most important columns(features) that are relevant/correlated to the target variable (status_label). We can use techniques like correlation analysis or feature importance analysis to identify the most important features.\n",
        "\n",
        "Two ways for that: \n",
        "- Visual exploration of relationship between variables: \n",
        "it is always helpful to visualize the relation between the Target variable and each of the predictors to get a better sense of data\n",
        " - Continuous Vs Continuous ---- Scatter Plot\n",
        " - Categorical Vs Continuous---- Box Plot\n",
        " - Categorical Vs Categorical---- Grouped Bar Plots\n",
        "- Statistical measurement of relationship strength between variables (correlation values or ANOVA/Chi-Square tests.)\n",
        " - Continuous Vs Continuous ---- Correlation matrix\n",
        " - Categorical Vs Continuous---- ANOVA test\n",
        " - Categorical Vs Categorical--- Chi-Square test\n",
        "\n",
        "\n",
        "Since our Target variable is categorical and predictors are continuous, we present the scenario:\n",
        "- Categorical Target Variable Vs Continuous Predictor"
      ],
      "metadata": {
        "id": "fnRdk0MvjXrZ"
      }
    },
    {
      "cell_type": "markdown",
      "source": [
        "### Data Analysis\n",
        "#### Relationship exploration: Categorical Vs Continuous -- Box Plots"
      ],
      "metadata": {
        "id": "1SjTb_5JgXvm"
      }
    },
    {
      "cell_type": "code",
      "source": [
        "#data_set = data.copy()\n",
        "\n",
        "### Sandardization of data ###\n",
        "# Choose either standardization or Normalization\n",
        "\n",
        "# Choose between standardization and MinMAx normalization\n",
        "#PredictorScaler1=StandardScaler()\n",
        "\n",
        "# Storing the fit object for later reference\n",
        "#PredictorScalerFit1=PredictorScaler1.fit(data_set[['X{}'.format(i) for i in range(1,19)]])\n",
        "\n",
        "# Generating the standardized values of X\n",
        "#data_set_scaled=PredictorScalerFit1.transform(data_set[['X{}'.format(i) for i in range(1,19)]])\n",
        "#data_set_scaled=pd.DataFrame(data=data_set_scaled,columns=data.iloc[:,1:].columns)\n",
        "#data_set_scaled['status_label'] = data['status_label']\n",
        "\n",
        "# Box plots for Categorical Target Variable \"status_label\" and continuous predictors\n",
        "#ContinuousColsList= ['X{}'.format(i) for i in range(1,10)] \n",
        "\n",
        "\n",
        "#fig, PlotCanvas=plt.subplots(nrows=1, ncols=len(ContinuousColsList), figsize=(18,5))\n",
        "\n",
        "# Creating box plots for each continuous predictor against the Target Variable \"GoodCredit\"#\n",
        "#for PredictorCol , i in zip(ContinuousColsList, range(len(ContinuousColsList))):\n",
        "#    data_set_scaled.boxplot(column=PredictorCol, by='status_label', figsize=(5,5), vert=True, ax=PlotCanvas[i])"
      ],
      "metadata": {
        "id": "BKBdr77XTxbl"
      },
      "execution_count": 68,
      "outputs": []
    },
    {
      "cell_type": "code",
      "source": [
        "# Box plots for Categorical Target Variable \"status_label\" and continuous predictors\n",
        "ContinuousColsList= ['X{}'.format(i) for i in range(1,10)] \n",
        "\n",
        "\n",
        "fig, PlotCanvas=plt.subplots(nrows=1, ncols=len(ContinuousColsList), figsize=(18,5))\n",
        "\n",
        "# Creating box plots for each continuous predictor against the Target Variable \"GoodCredit\"\n",
        "for PredictorCol , i in zip(ContinuousColsList, range(len(ContinuousColsList))):\n",
        "    data.boxplot(column=PredictorCol, by='status_label', figsize=(5,5), vert=True, ax=PlotCanvas[i])"
      ],
      "metadata": {
        "colab": {
          "base_uri": "https://localhost:8080/",
          "height": 362
        },
        "id": "ZumPYejqlcwO",
        "outputId": "085485b9-f540-4ed7-a905-bfbae7a885e9"
      },
      "execution_count": 41,
      "outputs": [
        {
          "output_type": "display_data",
          "data": {
            "text/plain": [
              "<Figure size 1296x360 with 9 Axes>"
            ],
            "image/png": "[encoded data removed]"
          },
          "metadata": {
            "needs_background": "light"
          }
        }
      ]
    },
    {
      "cell_type": "code",
      "source": [
        "# Box plots for Categorical Target Variable \"status_label\" and continuous predictors\n",
        "ContinuousColsList= ['X{}'.format(i) for i in range(10,19)] \n",
        "\n",
        "import matplotlib.pyplot as plt\n",
        "fig, PlotCanvas=plt.subplots(nrows=1, ncols=len(ContinuousColsList), figsize=(18,5))\n",
        "\n",
        "# Creating box plots for each continuous predictor against the Target Variable \"GoodCredit\"\n",
        "for PredictorCol , i in zip(ContinuousColsList, range(len(ContinuousColsList))):\n",
        "    data.boxplot(column=PredictorCol, by='status_label', figsize=(5,5), vert=True, ax=PlotCanvas[i])"
      ],
      "metadata": {
        "colab": {
          "base_uri": "https://localhost:8080/",
          "height": 362
        },
        "id": "PSbxuvPLma4m",
        "outputId": "694e8d7b-c638-4875-c193-e0353b5ec66d"
      },
      "execution_count": 44,
      "outputs": [
        {
          "output_type": "display_data",
          "data": {
            "text/plain": [
              "<Figure size 1296x360 with 9 Axes>"
            ],
            "image/png": "[encoded data removed]"
          },
          "metadata": {
            "needs_background": "light"
          }
        }
      ]
    },
    {
      "cell_type": "markdown",
      "source": [
        "#### interpretation\n",
        "\n",
        "These plots gives an idea about the data distribution of continuous predictor in the Y-axis for each of the category in the X-Axis.\n",
        "\n",
        "If the distribution does not look similar for each category(Boxes aren't in the same line), that means the the continuous variable has an effect on the target variable. Hence, the variables are correlated to each other.\n",
        "\n",
        "The charts also exhibit that characteristics, hence all the features are correlated with the target variable.\n",
        "\n",
        "We confirm this by looking at the results of ANOVA test below"
      ],
      "metadata": {
        "id": "TL69Lj2EnBsf"
      }
    },
    {
      "cell_type": "markdown",
      "source": [
        "#### Statistical Feature Selection (Categorical Vs Continuous) using ANOVA test\n",
        "\n",
        "Analysis of variance(ANOVA) is performed to check if there is any relationship between the given continuous and categorical variable\n",
        "- Assumption(H0): There is NO relation between the given variables (i.e. the average(mean) values of the numeric Predictor variable is same for all the groups in the categorical Target variable)\n",
        "- ANOVA Test result: Probability of H0 being true"
      ],
      "metadata": {
        "id": "HHrYhApKnCOv"
      }
    },
    {
      "cell_type": "code",
      "source": [
        "# Defining a function to find the statistical relationship with all the categorical variables\n",
        "def FunctionAnova(inpData, TargetVariable, ContinuousPredictorList):\n",
        "    # Creating an empty list of final selected predictors\n",
        "    SelectedPredictors=[]\n",
        "    \n",
        "    print('----- ANOVA Results ----- \\n')\n",
        "    for predictor in ContinuousPredictorList:\n",
        "        CategoryGroupLists=inpData.groupby(TargetVariable)[predictor].apply(list)\n",
        "        AnovaResults = f_oneway(*CategoryGroupLists)\n",
        "        \n",
        "        # If the ANOVA P-Value is <0.05, that means we reject H0\n",
        "        if (AnovaResults[1] < 0.05):\n",
        "            print(predictor, 'is correlated with', TargetVariable, '| P-Value:', AnovaResults[1])\n",
        "            SelectedPredictors.append(predictor)\n",
        "        else:\n",
        "            print(predictor, 'is NOT correlated with', TargetVariable, '| P-Value:', AnovaResults[1])\n",
        "    print('\\n ----- The selected features are: ----- \\n')\n",
        "    return(SelectedPredictors)"
      ],
      "metadata": {
        "id": "VsNI34-MnAAc"
      },
      "execution_count": 59,
      "outputs": []
    },
    {
      "cell_type": "code",
      "source": [
        "# Calling the function to check which categorical variables are correlated with target\n",
        "ContinuousVariables=['X{}'.format(i) for i in range(1,19)] \n",
        "FunctionAnova(inpData=data, TargetVariable='status_label', ContinuousPredictorList=ContinuousVariables)"
      ],
      "metadata": {
        "colab": {
          "base_uri": "https://localhost:8080/"
        },
        "id": "PEYfvFedn_oC",
        "outputId": "573f22f1-029c-4c22-bb0a-4076d8be4675"
      },
      "execution_count": 60,
      "outputs": [
        {
          "output_type": "stream",
          "name": "stdout",
          "text": [
            "----- ANOVA Results ----- \n",
            "\n",
            "X1 is correlated with status_label | P-Value: 5.3027815285854314e-20\n",
            "X2 is correlated with status_label | P-Value: 6.356264872197013e-10\n",
            "X3 is correlated with status_label | P-Value: 5.0735981070169176e-05\n",
            "X4 is correlated with status_label | P-Value: 8.446543314287063e-19\n",
            "X5 is correlated with status_label | P-Value: 5.208748443785706e-12\n",
            "X6 is correlated with status_label | P-Value: 9.538596173565117e-26\n",
            "X7 is correlated with status_label | P-Value: 5.819039480048008e-18\n",
            "X8 is correlated with status_label | P-Value: 2.9148046196309245e-25\n",
            "X9 is correlated with status_label | P-Value: 1.5251569364207886e-13\n",
            "X10 is correlated with status_label | P-Value: 3.3721329998838767e-12\n",
            "X11 is correlated with status_label | P-Value: 0.009125185497232013\n",
            "X12 is correlated with status_label | P-Value: 3.294709628825785e-24\n",
            "X13 is correlated with status_label | P-Value: 2.03983307948854e-18\n",
            "X14 is correlated with status_label | P-Value: 2.242855682872181e-11\n",
            "X15 is correlated with status_label | P-Value: 2.5900535785424814e-16\n",
            "X16 is correlated with status_label | P-Value: 1.5251569364207886e-13\n",
            "X17 is correlated with status_label | P-Value: 2.53797344491004e-06\n",
            "X18 is correlated with status_label | P-Value: 1.3809127411523218e-11\n",
            "\n",
            " ----- The selected features are: ----- \n",
            "\n"
          ]
        },
        {
          "output_type": "execute_result",
          "data": {
            "text/plain": [
              "['X1',\n",
              " 'X2',\n",
              " 'X3',\n",
              " 'X4',\n",
              " 'X5',\n",
              " 'X6',\n",
              " 'X7',\n",
              " 'X8',\n",
              " 'X9',\n",
              " 'X10',\n",
              " 'X11',\n",
              " 'X12',\n",
              " 'X13',\n",
              " 'X14',\n",
              " 'X15',\n",
              " 'X16',\n",
              " 'X17',\n",
              " 'X18']"
            ]
          },
          "metadata": {},
          "execution_count": 60
        }
      ]
    },
    {
      "cell_type": "markdown",
      "source": [
        "#### **Correlation matrix of continuous features**"
      ],
      "metadata": {
        "id": "3p9iIJd8gX4l"
      }
    },
    {
      "cell_type": "code",
      "source": [
        "#Continuous features \n",
        "continuous_features=data.loc[:,'X1':'X18']\n",
        "plt.figure(figsize=(15,8))\n",
        "sns.heatmap(data[['status_label'] + continuous_features.columns.values.tolist()].corr(),cmap='magma',linecolor='white',linewidths=1,annot=True)"
      ],
      "metadata": {
        "colab": {
          "base_uri": "https://localhost:8080/",
          "height": 555
        },
        "id": "YUvSvuSGgWwv",
        "outputId": "5074ea8d-d5a3-4889-83ea-ebf42abad2ae"
      },
      "execution_count": 52,
      "outputs": [
        {
          "output_type": "execute_result",
          "data": {
            "text/plain": [
              "<Axes: >"
            ]
          },
          "metadata": {},
          "execution_count": 52
        },
        {
          "output_type": "display_data",
          "data": {
            "text/plain": [
              "<Figure size 1080x576 with 2 Axes>"
            ],
            "image/png": "[encoded data removed]"
          },
          "metadata": {
            "needs_background": "light"
          }
        }
      ]
    },
    {
      "cell_type": "markdown",
      "source": [
        "we see that, X1 and X14 are highly correlated(0.9), X2,X9,X16 and X18  too (0.99), X3, X10,X11 and X17, X4, X12 and X13"
      ],
      "metadata": {
        "id": "QKjn31itrFP5"
      }
    },
    {
      "cell_type": "code",
      "source": [
        "# Separate the features and target variable\n",
        "X = data.drop(['status_label'], axis=1)\n",
        "y = data['status_label']"
      ],
      "metadata": {
        "id": "xZmcp3wbdiMk"
      },
      "execution_count": 68,
      "outputs": []
    },
    {
      "cell_type": "markdown",
      "source": [
        "#### Selecting final predictors for Machine Learning"
      ],
      "metadata": {
        "id": "7S0KGFVbtiWZ"
      }
    },
    {
      "cell_type": "code",
      "source": [
        "# Feature Selection using ANOVA \n",
        "# Alternative we can use chi2 but chi2 doesn't allow us to pass the non-negative value.\n",
        "\n",
        "#select 9 most important features\n",
        "selector = SelectKBest(f_classif, k=9)\n",
        "X_selected = selector.fit_transform(X, y)\n",
        "\n",
        "# Get the names of the selected features\n",
        "feature_names = [X.columns.values[i] for i in selector.get_support(indices=True)]\n",
        "print(f\"Selected features: {feature_names}\")"
      ],
      "metadata": {
        "colab": {
          "base_uri": "https://localhost:8080/"
        },
        "id": "bRVKuinMqvro",
        "outputId": "aa4a240f-fb3c-414d-a26b-bc8b522027ca"
      },
      "execution_count": 58,
      "outputs": [
        {
          "output_type": "stream",
          "name": "stdout",
          "text": [
            "Selected features: ['X1', 'X4', 'X6', 'X7', 'X8', 'X12', 'X13', 'X15', 'X16']\n"
          ]
        }
      ]
    },
    {
      "cell_type": "code",
      "source": [
        "# Separate Target Variable and Predictor Variables\n",
        "TargetVariable='status_label'\n",
        "Predictors=['X1', 'X4', 'X6', 'X7', 'X8', 'X12', 'X13', 'X15', 'X16']\n",
        "X=X[Predictors]"
      ],
      "metadata": {
        "id": "pSBsBqCCxswB"
      },
      "execution_count": 70,
      "outputs": []
    },
    {
      "cell_type": "markdown",
      "source": [
        "#### Standardization/Normalization of data\n",
        "\n",
        "Necessary, if we are to use KNN or Neural Networks, sum up distance based Models.\n",
        "\n",
        "* Some models of machine learning will produce the correct result only in case of the data is centered and has unit variance. "
      ],
      "metadata": {
        "id": "Be9rGi7yvNYk"
      }
    },
    {
      "cell_type": "code",
      "source": [
        "### Sandardization of data ###\n",
        "# Choose either standardization or Normalization\n",
        "\n",
        "# Choose between standardization and MinMAx normalization\n",
        "PredictorScaler=StandardScaler()\n",
        "#PredictorScaler=MinMaxScaler()\n",
        "\n",
        "# Storing the fit object for later reference\n",
        "PredictorScalerFit=PredictorScaler.fit(X)\n",
        "\n",
        "# Generating the standardized values of X\n",
        "X=PredictorScalerFit.transform(X)"
      ],
      "metadata": {
        "id": "bCVEtEmtszsm"
      },
      "execution_count": 71,
      "outputs": []
    },
    {
      "cell_type": "markdown",
      "source": [
        "#### Machine Learning: Splitting the data into Training and Testing sample"
      ],
      "metadata": {
        "id": "VHvVcy3Pwl8m"
      }
    },
    {
      "cell_type": "code",
      "source": [
        "# Split the data into training and testing set\n",
        "X_train, X_valid, y_train, y_valid = train_test_split(X, y, test_size=0.2, random_state=42)"
      ],
      "metadata": {
        "id": "7G2nAjPxszzn"
      },
      "execution_count": 85,
      "outputs": []
    },
    {
      "cell_type": "code",
      "source": [
        "print('Training Data Shape:', X_train.shape)\n",
        "print('Validation Data Shape:', X_valid.shape)"
      ],
      "metadata": {
        "colab": {
          "base_uri": "https://localhost:8080/"
        },
        "id": "0DupFyb4wZE3",
        "outputId": "5e5403c2-8b37-466c-d528-4fab68726d83"
      },
      "execution_count": 73,
      "outputs": [
        {
          "output_type": "stream",
          "name": "stdout",
          "text": [
            "Training Data Shape: (62945, 9)\n",
            "Validation Data Shape: (15737, 9)\n"
          ]
        }
      ]
    },
    {
      "cell_type": "markdown",
      "source": [
        "\n",
        "## Model selection: \n",
        "After identifying the relevant features, we can select an appropriate machine learning model based on the nature of the problem, the size of the dataset, and the available computational resources to train on the dataset. Depending on the size of the dataset and the complexity of the problem, we can choose from a range of models like logistic regression, random forest, XGBoost, which are commonly used for binary classification problems or neural networks."
      ],
      "metadata": {
        "id": "Jsj0QefTwZU6"
      }
    },
    {
      "cell_type": "markdown",
      "source": [
        "   1)  Logistic Regression \n",
        "   \n",
        "   2) Decision Tree Classifier\n",
        "   \n",
        "   3) Random Forest Classifier\n",
        "    \n",
        "   4) Extra Trees (Random Forests) Classifier\n",
        "   \n",
        "   5) Support Vector Machine Classifier\n",
        "   \n",
        "   6) Extreme Gradient Boosting (XGBoost) Classifier\n",
        "   \n",
        "   7) Naive Bayes Classifier\n",
        "\n",
        "   8) K-Nearest Neighbors Classifier\n",
        "   \n",
        "   9) Neural Network Classifier \n",
        "   \n",
        "   and compare the results on accuracy score. Then I will select the best model with the highest accuracy score for use."
      ],
      "metadata": {
        "id": "0ECjiqmzwZdX"
      }
    },
    {
      "cell_type": "code",
      "source": [
        "#Compare all classifier \n",
        "# --------------------\n",
        "#Fit models\n",
        "# Logistic Regression\n",
        "# choose parameter Penalty='l1' or C=1\n",
        "# choose different values for solver 'newton-cg', 'lbfgs', 'liblinear', 'sag', 'saga'\n",
        "lr_clf = LogisticRegression(C=1,penalty='l2', solver='newton-cg')\n",
        "lr_clf.fit(X_train,y_train)\n",
        "#knn\n",
        "knn_classifier = KNeighborsClassifier()\n",
        "knn_classifier.fit(X_train,y_train)\n",
        "#decision tree\n",
        "decision_clf = DecisionTreeClassifier()\n",
        "decision_clf.fit(X_train,y_train)\n",
        "#random forest\n",
        "forest_clf = RandomForestClassifier()\n",
        "forest_clf.fit(X_train,y_train)\n",
        "#XGB\n",
        "xgb_clf = XGBClassifier()\n",
        "xgb_clf.fit(X_train,y_train)\n",
        "#Tree\n",
        "xrf_clf = ExtraTreesClassifier()\n",
        "xrf_clf.fit(X_train,y_train)\n",
        "#SVM \n",
        "svm_clf = SVC()\n",
        "svm_clf.fit(X_train,y_train)\n",
        "#naive bayes\n",
        "gaussian_clf = GaussianNB()\n",
        "gaussian_clf.fit(X_train,y_train)\n",
        "#NN\n",
        "nn_clf = MLPClassifier(hidden_layer_sizes=(50, 50), max_iter=1000)\n",
        "nn_clf.fit(X_train,y_train)"
      ],
      "metadata": {
        "colab": {
          "base_uri": "https://localhost:8080/",
          "height": 75
        },
        "id": "ioAkC6qJxJgL",
        "outputId": "c5eb34a1-e802-4830-816e-9a820d18c48f"
      },
      "execution_count": 75,
      "outputs": [
        {
          "output_type": "execute_result",
          "data": {
            "text/plain": [
              "MLPClassifier(hidden_layer_sizes=(50, 50), max_iter=1000)"
            ],
            "text/html": [
              "<style>#sk-container-id-1 {color: black;background-color: white;}#sk-container-id-1 pre{padding: 0;}#sk-container-id-1 div.sk-toggleable {background-color: white;}#sk-container-id-1 label.sk-toggleable__label {cursor: pointer;display: block;width: 100%;margin-bottom: 0;padding: 0.3em;box-sizing: border-box;text-align: center;}#sk-container-id-1 label.sk-toggleable__label-arrow:before {content: \"▸\";float: left;margin-right: 0.25em;color: #696969;}#sk-container-id-1 label.sk-toggleable__label-arrow:hover:before {color: black;}#sk-container-id-1 div.sk-estimator:hover label.sk-toggleable__label-arrow:before {color: black;}#sk-container-id-1 div.sk-toggleable__content {max-height: 0;max-width: 0;overflow: hidden;text-align: left;background-color: #f0f8ff;}#sk-container-id-1 div.sk-toggleable__content pre {margin: 0.2em;color: black;border-radius: 0.25em;background-color: #f0f8ff;}#sk-container-id-1 input.sk-toggleable__control:checked~div.sk-toggleable__content {max-height: 200px;max-width: 100%;overflow: auto;}#sk-container-id-1 input.sk-toggleable__control:checked~label.sk-toggleable__label-arrow:before {content: \"▾\";}#sk-container-id-1 div.sk-estimator input.sk-toggleable__control:checked~label.sk-toggleable__label {background-color: #d4ebff;}#sk-container-id-1 div.sk-label input.sk-toggleable__control:checked~label.sk-toggleable__label {background-color: #d4ebff;}#sk-container-id-1 input.sk-hidden--visually {border: 0;clip: rect(1px 1px 1px 1px);clip: rect(1px, 1px, 1px, 1px);height: 1px;margin: -1px;overflow: hidden;padding: 0;position: absolute;width: 1px;}#sk-container-id-1 div.sk-estimator {font-family: monospace;background-color: #f0f8ff;border: 1px dotted black;border-radius: 0.25em;box-sizing: border-box;margin-bottom: 0.5em;}#sk-container-id-1 div.sk-estimator:hover {background-color: #d4ebff;}#sk-container-id-1 div.sk-parallel-item::after {content: \"\";width: 100%;border-bottom: 1px solid gray;flex-grow: 1;}#sk-container-id-1 div.sk-label:hover label.sk-toggleable__label {background-color: #d4ebff;}#sk-container-id-1 div.sk-serial::before {content: \"\";position: absolute;border-left: 1px solid gray;box-sizing: border-box;top: 0;bottom: 0;left: 50%;z-index: 0;}#sk-container-id-1 div.sk-serial {display: flex;flex-direction: column;align-items: center;background-color: white;padding-right: 0.2em;padding-left: 0.2em;position: relative;}#sk-container-id-1 div.sk-item {position: relative;z-index: 1;}#sk-container-id-1 div.sk-parallel {display: flex;align-items: stretch;justify-content: center;background-color: white;position: relative;}#sk-container-id-1 div.sk-item::before, #sk-container-id-1 div.sk-parallel-item::before {content: \"\";position: absolute;border-left: 1px solid gray;box-sizing: border-box;top: 0;bottom: 0;left: 50%;z-index: -1;}#sk-container-id-1 div.sk-parallel-item {display: flex;flex-direction: column;z-index: 1;position: relative;background-color: white;}#sk-container-id-1 div.sk-parallel-item:first-child::after {align-self: flex-end;width: 50%;}#sk-container-id-1 div.sk-parallel-item:last-child::after {align-self: flex-start;width: 50%;}#sk-container-id-1 div.sk-parallel-item:only-child::after {width: 0;}#sk-container-id-1 div.sk-dashed-wrapped {border: 1px dashed gray;margin: 0 0.4em 0.5em 0.4em;box-sizing: border-box;padding-bottom: 0.4em;background-color: white;}#sk-container-id-1 div.sk-label label {font-family: monospace;font-weight: bold;display: inline-block;line-height: 1.2em;}#sk-container-id-1 div.sk-label-container {text-align: center;}#sk-container-id-1 div.sk-container {/* jupyter's `normalize.less` sets `[hidden] { display: none; }` but bootstrap.min.css set `[hidden] { display: none !important; }` so we also need the `!important` here to be able to override the default hidden behavior on the sphinx rendered scikit-learn.org. See: https://github.com/scikit-learn/scikit-learn/issues/21755 */display: inline-block !important;position: relative;}#sk-container-id-1 div.sk-text-repr-fallback {display: none;}</style><div id=\"sk-container-id-1\" class=\"sk-top-container\"><div class=\"sk-text-repr-fallback\"><pre>MLPClassifier(hidden_layer_sizes=(50, 50), max_iter=1000)</pre><b>In a Jupyter environment, please rerun this cell to show the HTML representation or trust the notebook. <br />On GitHub, the HTML representation is unable to render, please try loading this page with nbviewer.org.</b></div><div class=\"sk-container\" hidden><div class=\"sk-item\"><div class=\"sk-estimator sk-toggleable\"><input class=\"sk-toggleable__control sk-hidden--visually\" id=\"sk-estimator-id-1\" type=\"checkbox\" checked><label for=\"sk-estimator-id-1\" class=\"sk-toggleable__label sk-toggleable__label-arrow\">MLPClassifier</label><div class=\"sk-toggleable__content\"><pre>MLPClassifier(hidden_layer_sizes=(50, 50), max_iter=1000)</pre></div></div></div></div></div>"
            ]
          },
          "metadata": {},
          "execution_count": 75
        }
      ]
    },
    {
      "cell_type": "markdown",
      "source": [
        "### Compare model with the validation data set \n",
        "\n",
        "For validating the models, we can use various techniques such as holdout validation, k-fold cross-validation, or stratified sampling. We can also use techniques such as feature importance analysis, partial dependence plots, or SHAP values to understand the model's behavior and improve its interpretability. Additionally, we can use techniques such as A/B testing or online evaluation to validate the model's performance in real-world scenarios.\n",
        "Here we use cross-validation"
      ],
      "metadata": {
        "id": "bytmuObwzPcT"
      }
    },
    {
      "cell_type": "code",
      "source": [
        "# Performance of each model, here we use the accuracy\n",
        "models= [('LogisticRegression', lr_clf),('knn_classifier', knn_classifier),('decision tree', decision_clf), ('random forest', forest_clf), ('XGB', xgb_clf),('ExtraTree', xrf_clf),\n",
        "        ('SVM', svm_clf),('Naive Bayes', gaussian_clf),('Neural Network', nn_clf)]\n",
        "for i, model in models:    \n",
        "    predictions = model.predict(X_valid)\n",
        "    accuracy = metrics.accuracy_score(y_valid, predictions)\n",
        "    print('Accuracy  of ', i , 'is: ',accuracy)\n",
        "    print('Cross Validation Score of ', i , 'is : ' ,cross_val_score(model, X_valid, y_valid, cv=5).mean())"
      ],
      "metadata": {
        "colab": {
          "base_uri": "https://localhost:8080/"
        },
        "id": "-SX0DI7fzJQg",
        "outputId": "a6557830-309e-4c38-e3e4-46bfc49fdaeb"
      },
      "execution_count": 82,
      "outputs": [
        {
          "output_type": "stream",
          "name": "stdout",
          "text": [
            "Accuracy  of  LogisticRegression is:  0.9320073711635001\n",
            "Cross Validation Score of  LogisticRegression is :  0.9318167319352572\n",
            "Accuracy  of  knn_classifier is:  0.9337230730126453\n",
            "Cross Validation Score of  knn_classifier is :  0.9285123404674549\n",
            "Accuracy  of  decision tree is:  0.8894325474995234\n",
            "Cross Validation Score of  decision tree is :  0.8782484397516199\n",
            "Accuracy  of  random forest is:  0.9346126961936837\n",
            "Cross Validation Score of  random forest is :  0.9319436957970904\n",
            "Accuracy  of  XGB is:  0.9330876278833323\n",
            "Cross Validation Score of  XGB is :  0.9297194964729119\n",
            "Accuracy  of  ExtraTree is:  0.9360742199911037\n",
            "Cross Validation Score of  ExtraTree is :  0.9332781992410029\n",
            "Accuracy  of  SVM is:  0.9321344601893626\n",
            "Cross Validation Score of  SVM is :  0.9321344746958541\n",
            "Accuracy  of  Naive Bayes is:  0.14812225964287984\n",
            "Cross Validation Score of  Naive Bayes is :  0.1593702923540259\n",
            "Accuracy  of  Neural Network is:  0.9331511723962636\n",
            "Cross Validation Score of  Neural Network is :  0.9311176534478086\n"
          ]
        }
      ]
    },
    {
      "cell_type": "markdown",
      "source": [
        "##### Result\n",
        "\n",
        "   We see that ExtraTree still give the best performance with the data. It has an accuracy of 0.936 with CV Score : 0.933(5-Fold). \n",
        "\n"
      ],
      "metadata": {
        "id": "4MC_-GIe336C"
      }
    },
    {
      "cell_type": "markdown",
      "source": [
        "\n",
        "\n",
        "## Model Selection and training: \n",
        "We can train the selected model on the training data using an appropriate training algorithm. We can also use techniques like cross-validation to evaluate the model's performance and tune the hyperparameters.\n",
        "\n",
        "### Model Choice \n",
        "   We will choose ExtraTreeClassifier as our final model.\n",
        "\n",
        "* Some machine learning model doesn't care about the scale of the data such as the model which build with tree."
      ],
      "metadata": {
        "id": "dGambwNi2egj"
      }
    },
    {
      "cell_type": "code",
      "source": [
        "# Separate the features and target variable\n",
        "X = data.drop(['status_label'], axis=1)\n",
        "y = data['status_label']\n",
        "\n",
        "Predictors=['X1', 'X4', 'X6', 'X7', 'X8', 'X12', 'X13', 'X15', 'X16']\n",
        "X=X[Predictors]\n",
        "\n",
        "# Split the data into training and testing set\n",
        "X_train, X_valid, y_train, y_valid = train_test_split(X, y, test_size=0.2, random_state=42)"
      ],
      "metadata": {
        "id": "E-Q7PEM75pjV"
      },
      "execution_count": 87,
      "outputs": []
    },
    {
      "cell_type": "code",
      "source": [
        "#Tree\n",
        "xrf_clf = ExtraTreesClassifier()\n",
        "xrf_clf.fit(X_train,y_train)\n",
        "\n",
        "predictions = model.predict(X_valid)\n",
        "accuracy = metrics.accuracy_score(y_valid, predictions)\n",
        "print('Accuracy  of ExtraTreeClassifier is: ',accuracy)\n",
        "print('Cross Validation Score of ExtraTreeClassifier is : ' ,cross_val_score(model, X_valid, y_valid, cv=5).mean())"
      ],
      "metadata": {
        "colab": {
          "base_uri": "https://localhost:8080/"
        },
        "id": "JePHuvnG6aXm",
        "outputId": "c7708774-b7d8-4bb5-e905-f1ac36f68b88"
      },
      "execution_count": 88,
      "outputs": [
        {
          "output_type": "stream",
          "name": "stdout",
          "text": [
            "Accuracy  of ExtraTreeClassifier is:  0.9246997521763995\n",
            "Cross Validation Score of ExtraTreeClassifier is :  0.9069697689132548\n"
          ]
        }
      ]
    },
    {
      "cell_type": "markdown",
      "source": [
        "We can see the features importants which train this model"
      ],
      "metadata": {
        "id": "fNH5D7cs5vea"
      }
    },
    {
      "cell_type": "code",
      "source": [
        "#create list of features\n",
        "features = list(X_train.columns)\n",
        "\n",
        "# Extract the feature importances into a dataframe\n",
        "feature_results = pd.DataFrame({'feature': features, \n",
        "                                'importance': xrf_clf.feature_importances_})\n",
        "\n",
        "# Show the top 10 most important\n",
        "feature_results = feature_results.sort_values('importance', ascending = False).reset_index(drop=True)\n",
        "feature_results"
      ],
      "metadata": {
        "colab": {
          "base_uri": "https://localhost:8080/",
          "height": 332
        },
        "id": "SrSuDMei0l2q",
        "outputId": "50361485-5dde-4cfc-edb2-5c4d2a5ecdc6"
      },
      "execution_count": 90,
      "outputs": [
        {
          "output_type": "execute_result",
          "data": {
            "text/plain": [
              "  feature  importance\n",
              "0     X15    0.116411\n",
              "1      X4    0.114692\n",
              "2     X16    0.113079\n",
              "3     X13    0.112897\n",
              "4      X8    0.111641\n",
              "5      X7    0.109679\n",
              "6      X1    0.109425\n",
              "7     X12    0.108125\n",
              "8      X6    0.104051"
            ],
            "text/html": [
              "\n",
              "  <div id=\"df-2e2d4f74-35fa-4430-bc64-86cc27a65d24\">\n",
              "    <div class=\"colab-df-container\">\n",
              "      <div>\n",
              "<style scoped>\n",
              "    .dataframe tbody tr th:only-of-type {\n",
              "        vertical-align: middle;\n",
              "    }\n",
              "\n",
              "    .dataframe tbody tr th {\n",
              "        vertical-align: top;\n",
              "    }\n",
              "\n",
              "    .dataframe thead th {\n",
              "        text-align: right;\n",
              "    }\n",
              "</style>\n",
              "<table border=\"1\" class=\"dataframe\">\n",
              "  <thead>\n",
              "    <tr style=\"text-align: right;\">\n",
              "      <th></th>\n",
              "      <th>feature</th>\n",
              "      <th>importance</th>\n",
              "    </tr>\n",
              "  </thead>\n",
              "  <tbody>\n",
              "    <tr>\n",
              "      <th>0</th>\n",
              "      <td>X15</td>\n",
              "      <td>0.116411</td>\n",
              "    </tr>\n",
              "    <tr>\n",
              "      <th>1</th>\n",
              "      <td>X4</td>\n",
              "      <td>0.114692</td>\n",
              "    </tr>\n",
              "    <tr>\n",
              "      <th>2</th>\n",
              "      <td>X16</td>\n",
              "      <td>0.113079</td>\n",
              "    </tr>\n",
              "    <tr>\n",
              "      <th>3</th>\n",
              "      <td>X13</td>\n",
              "      <td>0.112897</td>\n",
              "    </tr>\n",
              "    <tr>\n",
              "      <th>4</th>\n",
              "      <td>X8</td>\n",
              "      <td>0.111641</td>\n",
              "    </tr>\n",
              "    <tr>\n",
              "      <th>5</th>\n",
              "      <td>X7</td>\n",
              "      <td>0.109679</td>\n",
              "    </tr>\n",
              "    <tr>\n",
              "      <th>6</th>\n",
              "      <td>X1</td>\n",
              "      <td>0.109425</td>\n",
              "    </tr>\n",
              "    <tr>\n",
              "      <th>7</th>\n",
              "      <td>X12</td>\n",
              "      <td>0.108125</td>\n",
              "    </tr>\n",
              "    <tr>\n",
              "      <th>8</th>\n",
              "      <td>X6</td>\n",
              "      <td>0.104051</td>\n",
              "    </tr>\n",
              "  </tbody>\n",
              "</table>\n",
              "</div>\n",
              "      <button class=\"colab-df-convert\" onclick=\"convertToInteractive('df-2e2d4f74-35fa-4430-bc64-86cc27a65d24')\"\n",
              "              title=\"Convert this dataframe to an interactive table.\"\n",
              "              style=\"display:none;\">\n",
              "        \n",
              "  <svg xmlns=\"http://www.w3.org/2000/svg\" height=\"24px\"viewBox=\"0 0 24 24\"\n",
              "       width=\"24px\">\n",
              "    <path d=\"M0 0h24v24H0V0z\" fill=\"none\"/>\n",
              "    <path d=\"M18.56 5.44l.94 2.06.94-2.06 2.06-.94-2.06-.94-.94-2.06-.94 2.06-2.06.94zm-11 1L8.5 8.5l.94-2.06 2.06-.94-2.06-.94L8.5 2.5l-.94 2.06-2.06.94zm10 10l.94 2.06.94-2.06 2.06-.94-2.06-.94-.94-2.06-.94 2.06-2.06.94z\"/><path d=\"M17.41 7.96l-1.37-1.37c-.4-.4-.92-.59-1.43-.59-.52 0-1.04.2-1.43.59L10.3 9.45l-7.72 7.72c-.78.78-.78 2.05 0 2.83L4 21.41c.39.39.9.59 1.41.59.51 0 1.02-.2 1.41-.59l7.78-7.78 2.81-2.81c.8-.78.8-2.07 0-2.86zM5.41 20L4 18.59l7.72-7.72 1.47 1.35L5.41 20z\"/>\n",
              "  </svg>\n",
              "      </button>\n",
              "      \n",
              "  <style>\n",
              "    .colab-df-container {\n",
              "      display:flex;\n",
              "      flex-wrap:wrap;\n",
              "      gap: 12px;\n",
              "    }\n",
              "\n",
              "    .colab-df-convert {\n",
              "      background-color: #E8F0FE;\n",
              "      border: none;\n",
              "      border-radius: 50%;\n",
              "      cursor: pointer;\n",
              "      display: none;\n",
              "      fill: #1967D2;\n",
              "      height: 32px;\n",
              "      padding: 0 0 0 0;\n",
              "      width: 32px;\n",
              "    }\n",
              "\n",
              "    .colab-df-convert:hover {\n",
              "      background-color: #E2EBFA;\n",
              "      box-shadow: 0px 1px 2px rgba(60, 64, 67, 0.3), 0px 1px 3px 1px rgba(60, 64, 67, 0.15);\n",
              "      fill: #174EA6;\n",
              "    }\n",
              "\n",
              "    [theme=dark] .colab-df-convert {\n",
              "      background-color: #3B4455;\n",
              "      fill: #D2E3FC;\n",
              "    }\n",
              "\n",
              "    [theme=dark] .colab-df-convert:hover {\n",
              "      background-color: #434B5C;\n",
              "      box-shadow: 0px 1px 3px 1px rgba(0, 0, 0, 0.15);\n",
              "      filter: drop-shadow(0px 1px 2px rgba(0, 0, 0, 0.3));\n",
              "      fill: #FFFFFF;\n",
              "    }\n",
              "  </style>\n",
              "\n",
              "      <script>\n",
              "        const buttonEl =\n",
              "          document.querySelector('#df-2e2d4f74-35fa-4430-bc64-86cc27a65d24 button.colab-df-convert');\n",
              "        buttonEl.style.display =\n",
              "          google.colab.kernel.accessAllowed ? 'block' : 'none';\n",
              "\n",
              "        async function convertToInteractive(key) {\n",
              "          const element = document.querySelector('#df-2e2d4f74-35fa-4430-bc64-86cc27a65d24');\n",
              "          const dataTable =\n",
              "            await google.colab.kernel.invokeFunction('convertToInteractive',\n",
              "                                                     [key], {});\n",
              "          if (!dataTable) return;\n",
              "\n",
              "          const docLinkHtml = 'Like what you see? Visit the ' +\n",
              "            '<a target=\"_blank\" href=https://colab.research.google.com/notebooks/data_table.ipynb>data table notebook</a>'\n",
              "            + ' to learn more about interactive tables.';\n",
              "          element.innerHTML = '';\n",
              "          dataTable['output_type'] = 'display_data';\n",
              "          await google.colab.output.renderOutput(dataTable, element);\n",
              "          const docLink = document.createElement('div');\n",
              "          docLink.innerHTML = docLinkHtml;\n",
              "          element.appendChild(docLink);\n",
              "        }\n",
              "      </script>\n",
              "    </div>\n",
              "  </div>\n",
              "  "
            ]
          },
          "metadata": {},
          "execution_count": 90
        }
      ]
    },
    {
      "cell_type": "markdown",
      "source": [
        "### Perform Hyperparameter Tuning on the Best Model\n",
        "\n",
        "   The model with default parameters gives us a good performance on training set, but it might be too complex or produce overfitting on the overall dataset, so doing hyperparameter tunning can avoid or reduce overfitting of our model.\n",
        "    \n",
        "   There are two way of doing hyperparameter tuning, there is RandomizedSearchCV and GridSearchCV.\n",
        "   \n",
        "   We can used GridSearchCV when the Model has a good performance in term of execution time, so I will train all combination of paramters."
      ],
      "metadata": {
        "id": "T26FBTYz7Gtv"
      }
    },
    {
      "cell_type": "code",
      "source": [
        "# The number of trees in the forest algorithm, default value is 10.\n",
        "n_estimators = [50, 100, 300, 500]\n",
        "\n",
        "max_depth = [None, 10, 20, 30, 40, 50]\n",
        "\n",
        "\n",
        "# The minimum number of samples required to split an internal node, default value is 2.\n",
        "min_samples_split = [2, 3, 5, 7, 9]\n",
        "\n",
        "# The minimum number of samples required to be at a leaf node, default value is 1.\n",
        "min_samples_leaf = [1, 2, 4, 6, 8]\n",
        "\n",
        "# Define the grid of hyperparameters to search\n",
        "hyperparameter_grid = {'n_estimators': n_estimators,\n",
        "                       'max_depth': max_depth,\n",
        "                       'min_samples_leaf': min_samples_leaf,\n",
        "                       'min_samples_split': min_samples_split\n",
        "                       }"
      ],
      "metadata": {
        "id": "r97g5lQC7U72"
      },
      "execution_count": 91,
      "outputs": []
    },
    {
      "cell_type": "code",
      "source": [
        "# create model\n",
        "best_model = ExtraTreesClassifier()\n",
        "\n",
        "# Create the randomized search CV object\n",
        "random_search = RandomizedSearchCV(best_model, param_distributions = hyperparameter_grid, n_iter=100, cv = 5, scoring = 'accuracy', verbose = 1,\n",
        "                               n_jobs = -1, return_train_score = True)"
      ],
      "metadata": {
        "id": "5Op4GweE7bMX"
      },
      "execution_count": 92,
      "outputs": []
    },
    {
      "cell_type": "code",
      "source": [
        "best_model.get_params().keys()"
      ],
      "metadata": {
        "colab": {
          "base_uri": "https://localhost:8080/"
        },
        "id": "zg6abxMs7nNl",
        "outputId": "36b7b3b6-0de8-4bde-b481-5a5a82283f85"
      },
      "execution_count": 93,
      "outputs": [
        {
          "output_type": "execute_result",
          "data": {
            "text/plain": [
              "dict_keys(['bootstrap', 'ccp_alpha', 'class_weight', 'criterion', 'max_depth', 'max_features', 'max_leaf_nodes', 'max_samples', 'min_impurity_decrease', 'min_samples_leaf', 'min_samples_split', 'min_weight_fraction_leaf', 'n_estimators', 'n_jobs', 'oob_score', 'random_state', 'verbose', 'warm_start'])"
            ]
          },
          "metadata": {},
          "execution_count": 93
        }
      ]
    },
    {
      "cell_type": "code",
      "source": [
        "# Fit on the all training data using random search object\n",
        "random_search.fit(X_train, y_train)"
      ],
      "metadata": {
        "colab": {
          "base_uri": "https://localhost:8080/",
          "height": 136
        },
        "id": "j7F3u6rW78J-",
        "outputId": "4e05837a-9218-46fc-9ac2-c52a009259ec"
      },
      "execution_count": 94,
      "outputs": [
        {
          "metadata": {
            "tags": null
          },
          "name": "stdout",
          "output_type": "stream",
          "text": [
            "Fitting 5 folds for each of 100 candidates, totalling 500 fits\n"
          ]
        },
        {
          "output_type": "execute_result",
          "data": {
            "text/plain": [
              "RandomizedSearchCV(cv=5, estimator=ExtraTreesClassifier(), n_iter=100,\n",
              "                   n_jobs=-1,\n",
              "                   param_distributions={'max_depth': [None, 10, 20, 30, 40, 50],\n",
              "                                        'min_samples_leaf': [1, 2, 4, 6, 8],\n",
              "                                        'min_samples_split': [2, 3, 5, 7, 9],\n",
              "                                        'n_estimators': [50, 100, 300, 500]},\n",
              "                   return_train_score=True, scoring='accuracy', verbose=1)"
            ],
            "text/html": [
              "<style>#sk-container-id-3 {color: black;background-color: white;}#sk-container-id-3 pre{padding: 0;}#sk-container-id-3 div.sk-toggleable {background-color: white;}#sk-container-id-3 label.sk-toggleable__label {cursor: pointer;display: block;width: 100%;margin-bottom: 0;padding: 0.3em;box-sizing: border-box;text-align: center;}#sk-container-id-3 label.sk-toggleable__label-arrow:before {content: \"▸\";float: left;margin-right: 0.25em;color: #696969;}#sk-container-id-3 label.sk-toggleable__label-arrow:hover:before {color: black;}#sk-container-id-3 div.sk-estimator:hover label.sk-toggleable__label-arrow:before {color: black;}#sk-container-id-3 div.sk-toggleable__content {max-height: 0;max-width: 0;overflow: hidden;text-align: left;background-color: #f0f8ff;}#sk-container-id-3 div.sk-toggleable__content pre {margin: 0.2em;color: black;border-radius: 0.25em;background-color: #f0f8ff;}#sk-container-id-3 input.sk-toggleable__control:checked~div.sk-toggleable__content {max-height: 200px;max-width: 100%;overflow: auto;}#sk-container-id-3 input.sk-toggleable__control:checked~label.sk-toggleable__label-arrow:before {content: \"▾\";}#sk-container-id-3 div.sk-estimator input.sk-toggleable__control:checked~label.sk-toggleable__label {background-color: #d4ebff;}#sk-container-id-3 div.sk-label input.sk-toggleable__control:checked~label.sk-toggleable__label {background-color: #d4ebff;}#sk-container-id-3 input.sk-hidden--visually {border: 0;clip: rect(1px 1px 1px 1px);clip: rect(1px, 1px, 1px, 1px);height: 1px;margin: -1px;overflow: hidden;padding: 0;position: absolute;width: 1px;}#sk-container-id-3 div.sk-estimator {font-family: monospace;background-color: #f0f8ff;border: 1px dotted black;border-radius: 0.25em;box-sizing: border-box;margin-bottom: 0.5em;}#sk-container-id-3 div.sk-estimator:hover {background-color: #d4ebff;}#sk-container-id-3 div.sk-parallel-item::after {content: \"\";width: 100%;border-bottom: 1px solid gray;flex-grow: 1;}#sk-container-id-3 div.sk-label:hover label.sk-toggleable__label {background-color: #d4ebff;}#sk-container-id-3 div.sk-serial::before {content: \"\";position: absolute;border-left: 1px solid gray;box-sizing: border-box;top: 0;bottom: 0;left: 50%;z-index: 0;}#sk-container-id-3 div.sk-serial {display: flex;flex-direction: column;align-items: center;background-color: white;padding-right: 0.2em;padding-left: 0.2em;position: relative;}#sk-container-id-3 div.sk-item {position: relative;z-index: 1;}#sk-container-id-3 div.sk-parallel {display: flex;align-items: stretch;justify-content: center;background-color: white;position: relative;}#sk-container-id-3 div.sk-item::before, #sk-container-id-3 div.sk-parallel-item::before {content: \"\";position: absolute;border-left: 1px solid gray;box-sizing: border-box;top: 0;bottom: 0;left: 50%;z-index: -1;}#sk-container-id-3 div.sk-parallel-item {display: flex;flex-direction: column;z-index: 1;position: relative;background-color: white;}#sk-container-id-3 div.sk-parallel-item:first-child::after {align-self: flex-end;width: 50%;}#sk-container-id-3 div.sk-parallel-item:last-child::after {align-self: flex-start;width: 50%;}#sk-container-id-3 div.sk-parallel-item:only-child::after {width: 0;}#sk-container-id-3 div.sk-dashed-wrapped {border: 1px dashed gray;margin: 0 0.4em 0.5em 0.4em;box-sizing: border-box;padding-bottom: 0.4em;background-color: white;}#sk-container-id-3 div.sk-label label {font-family: monospace;font-weight: bold;display: inline-block;line-height: 1.2em;}#sk-container-id-3 div.sk-label-container {text-align: center;}#sk-container-id-3 div.sk-container {/* jupyter's `normalize.less` sets `[hidden] { display: none; }` but bootstrap.min.css set `[hidden] { display: none !important; }` so we also need the `!important` here to be able to override the default hidden behavior on the sphinx rendered scikit-learn.org. See: https://github.com/scikit-learn/scikit-learn/issues/21755 */display: inline-block !important;position: relative;}#sk-container-id-3 div.sk-text-repr-fallback {display: none;}</style><div id=\"sk-container-id-3\" class=\"sk-top-container\"><div class=\"sk-text-repr-fallback\"><pre>RandomizedSearchCV(cv=5, estimator=ExtraTreesClassifier(), n_iter=100,\n",
              "                   n_jobs=-1,\n",
              "                   param_distributions={&#x27;max_depth&#x27;: [None, 10, 20, 30, 40, 50],\n",
              "                                        &#x27;min_samples_leaf&#x27;: [1, 2, 4, 6, 8],\n",
              "                                        &#x27;min_samples_split&#x27;: [2, 3, 5, 7, 9],\n",
              "                                        &#x27;n_estimators&#x27;: [50, 100, 300, 500]},\n",
              "                   return_train_score=True, scoring=&#x27;accuracy&#x27;, verbose=1)</pre><b>In a Jupyter environment, please rerun this cell to show the HTML representation or trust the notebook. <br />On GitHub, the HTML representation is unable to render, please try loading this page with nbviewer.org.</b></div><div class=\"sk-container\" hidden><div class=\"sk-item sk-dashed-wrapped\"><div class=\"sk-label-container\"><div class=\"sk-label sk-toggleable\"><input class=\"sk-toggleable__control sk-hidden--visually\" id=\"sk-estimator-id-3\" type=\"checkbox\" ><label for=\"sk-estimator-id-3\" class=\"sk-toggleable__label sk-toggleable__label-arrow\">RandomizedSearchCV</label><div class=\"sk-toggleable__content\"><pre>RandomizedSearchCV(cv=5, estimator=ExtraTreesClassifier(), n_iter=100,\n",
              "                   n_jobs=-1,\n",
              "                   param_distributions={&#x27;max_depth&#x27;: [None, 10, 20, 30, 40, 50],\n",
              "                                        &#x27;min_samples_leaf&#x27;: [1, 2, 4, 6, 8],\n",
              "                                        &#x27;min_samples_split&#x27;: [2, 3, 5, 7, 9],\n",
              "                                        &#x27;n_estimators&#x27;: [50, 100, 300, 500]},\n",
              "                   return_train_score=True, scoring=&#x27;accuracy&#x27;, verbose=1)</pre></div></div></div><div class=\"sk-parallel\"><div class=\"sk-parallel-item\"><div class=\"sk-item\"><div class=\"sk-label-container\"><div class=\"sk-label sk-toggleable\"><input class=\"sk-toggleable__control sk-hidden--visually\" id=\"sk-estimator-id-4\" type=\"checkbox\" ><label for=\"sk-estimator-id-4\" class=\"sk-toggleable__label sk-toggleable__label-arrow\">estimator: ExtraTreesClassifier</label><div class=\"sk-toggleable__content\"><pre>ExtraTreesClassifier()</pre></div></div></div><div class=\"sk-serial\"><div class=\"sk-item\"><div class=\"sk-estimator sk-toggleable\"><input class=\"sk-toggleable__control sk-hidden--visually\" id=\"sk-estimator-id-5\" type=\"checkbox\" ><label for=\"sk-estimator-id-5\" class=\"sk-toggleable__label sk-toggleable__label-arrow\">ExtraTreesClassifier</label><div class=\"sk-toggleable__content\"><pre>ExtraTreesClassifier()</pre></div></div></div></div></div></div></div></div></div></div>"
            ]
          },
          "metadata": {},
          "execution_count": 94
        }
      ]
    },
    {
      "cell_type": "code",
      "source": [
        "random_search.best_params_"
      ],
      "metadata": {
        "colab": {
          "base_uri": "https://localhost:8080/"
        },
        "id": "m82sPWp58IKf",
        "outputId": "4b0fe090-e542-4c47-90f5-77d5402e80fa"
      },
      "execution_count": 95,
      "outputs": [
        {
          "output_type": "execute_result",
          "data": {
            "text/plain": [
              "{'n_estimators': 50,\n",
              " 'min_samples_split': 2,\n",
              " 'min_samples_leaf': 1,\n",
              " 'max_depth': None}"
            ]
          },
          "metadata": {},
          "execution_count": 95
        }
      ]
    },
    {
      "cell_type": "code",
      "source": [
        "random_search.best_estimator_.fit(X_train,y_train)"
      ],
      "metadata": {
        "colab": {
          "base_uri": "https://localhost:8080/",
          "height": 75
        },
        "id": "1vfWhL1Z8Lgt",
        "outputId": "c9a65a9a-35b5-49ba-c6bf-8fa7af5bfe49"
      },
      "execution_count": 96,
      "outputs": [
        {
          "output_type": "execute_result",
          "data": {
            "text/plain": [
              "ExtraTreesClassifier(n_estimators=50)"
            ],
            "text/html": [
              "<style>#sk-container-id-4 {color: black;background-color: white;}#sk-container-id-4 pre{padding: 0;}#sk-container-id-4 div.sk-toggleable {background-color: white;}#sk-container-id-4 label.sk-toggleable__label {cursor: pointer;display: block;width: 100%;margin-bottom: 0;padding: 0.3em;box-sizing: border-box;text-align: center;}#sk-container-id-4 label.sk-toggleable__label-arrow:before {content: \"▸\";float: left;margin-right: 0.25em;color: #696969;}#sk-container-id-4 label.sk-toggleable__label-arrow:hover:before {color: black;}#sk-container-id-4 div.sk-estimator:hover label.sk-toggleable__label-arrow:before {color: black;}#sk-container-id-4 div.sk-toggleable__content {max-height: 0;max-width: 0;overflow: hidden;text-align: left;background-color: #f0f8ff;}#sk-container-id-4 div.sk-toggleable__content pre {margin: 0.2em;color: black;border-radius: 0.25em;background-color: #f0f8ff;}#sk-container-id-4 input.sk-toggleable__control:checked~div.sk-toggleable__content {max-height: 200px;max-width: 100%;overflow: auto;}#sk-container-id-4 input.sk-toggleable__control:checked~label.sk-toggleable__label-arrow:before {content: \"▾\";}#sk-container-id-4 div.sk-estimator input.sk-toggleable__control:checked~label.sk-toggleable__label {background-color: #d4ebff;}#sk-container-id-4 div.sk-label input.sk-toggleable__control:checked~label.sk-toggleable__label {background-color: #d4ebff;}#sk-container-id-4 input.sk-hidden--visually {border: 0;clip: rect(1px 1px 1px 1px);clip: rect(1px, 1px, 1px, 1px);height: 1px;margin: -1px;overflow: hidden;padding: 0;position: absolute;width: 1px;}#sk-container-id-4 div.sk-estimator {font-family: monospace;background-color: #f0f8ff;border: 1px dotted black;border-radius: 0.25em;box-sizing: border-box;margin-bottom: 0.5em;}#sk-container-id-4 div.sk-estimator:hover {background-color: #d4ebff;}#sk-container-id-4 div.sk-parallel-item::after {content: \"\";width: 100%;border-bottom: 1px solid gray;flex-grow: 1;}#sk-container-id-4 div.sk-label:hover label.sk-toggleable__label {background-color: #d4ebff;}#sk-container-id-4 div.sk-serial::before {content: \"\";position: absolute;border-left: 1px solid gray;box-sizing: border-box;top: 0;bottom: 0;left: 50%;z-index: 0;}#sk-container-id-4 div.sk-serial {display: flex;flex-direction: column;align-items: center;background-color: white;padding-right: 0.2em;padding-left: 0.2em;position: relative;}#sk-container-id-4 div.sk-item {position: relative;z-index: 1;}#sk-container-id-4 div.sk-parallel {display: flex;align-items: stretch;justify-content: center;background-color: white;position: relative;}#sk-container-id-4 div.sk-item::before, #sk-container-id-4 div.sk-parallel-item::before {content: \"\";position: absolute;border-left: 1px solid gray;box-sizing: border-box;top: 0;bottom: 0;left: 50%;z-index: -1;}#sk-container-id-4 div.sk-parallel-item {display: flex;flex-direction: column;z-index: 1;position: relative;background-color: white;}#sk-container-id-4 div.sk-parallel-item:first-child::after {align-self: flex-end;width: 50%;}#sk-container-id-4 div.sk-parallel-item:last-child::after {align-self: flex-start;width: 50%;}#sk-container-id-4 div.sk-parallel-item:only-child::after {width: 0;}#sk-container-id-4 div.sk-dashed-wrapped {border: 1px dashed gray;margin: 0 0.4em 0.5em 0.4em;box-sizing: border-box;padding-bottom: 0.4em;background-color: white;}#sk-container-id-4 div.sk-label label {font-family: monospace;font-weight: bold;display: inline-block;line-height: 1.2em;}#sk-container-id-4 div.sk-label-container {text-align: center;}#sk-container-id-4 div.sk-container {/* jupyter's `normalize.less` sets `[hidden] { display: none; }` but bootstrap.min.css set `[hidden] { display: none !important; }` so we also need the `!important` here to be able to override the default hidden behavior on the sphinx rendered scikit-learn.org. See: https://github.com/scikit-learn/scikit-learn/issues/21755 */display: inline-block !important;position: relative;}#sk-container-id-4 div.sk-text-repr-fallback {display: none;}</style><div id=\"sk-container-id-4\" class=\"sk-top-container\"><div class=\"sk-text-repr-fallback\"><pre>ExtraTreesClassifier(n_estimators=50)</pre><b>In a Jupyter environment, please rerun this cell to show the HTML representation or trust the notebook. <br />On GitHub, the HTML representation is unable to render, please try loading this page with nbviewer.org.</b></div><div class=\"sk-container\" hidden><div class=\"sk-item\"><div class=\"sk-estimator sk-toggleable\"><input class=\"sk-toggleable__control sk-hidden--visually\" id=\"sk-estimator-id-6\" type=\"checkbox\" checked><label for=\"sk-estimator-id-6\" class=\"sk-toggleable__label sk-toggleable__label-arrow\">ExtraTreesClassifier</label><div class=\"sk-toggleable__content\"><pre>ExtraTreesClassifier(n_estimators=50)</pre></div></div></div></div></div>"
            ]
          },
          "metadata": {},
          "execution_count": 96
        }
      ]
    },
    {
      "cell_type": "code",
      "source": [
        "y_pred = random_search.best_estimator_.predict(X_valid)\n",
        "accuracy = metrics.accuracy_score(y_valid, y_pred)\n",
        "print('Accuracy of tunning model is', accuracy)\n",
        "print('Cross Validation Score of tuning model is : ' ,cross_val_score(random_search.best_estimator_, X_valid, y_valid, cv=5).mean())"
      ],
      "metadata": {
        "colab": {
          "base_uri": "https://localhost:8080/"
        },
        "id": "W5BZi-4l8STL",
        "outputId": "59e4b7a1-3617-4466-ea2e-3b364ade8fd8"
      },
      "execution_count": 100,
      "outputs": [
        {
          "output_type": "stream",
          "name": "stdout",
          "text": [
            "Accuracy of tunning model is 0.9365825760945542\n",
            "Cross Validation Score of tuning model is :  0.9334052640440523\n"
          ]
        }
      ]
    },
    {
      "cell_type": "markdown",
      "source": [
        "*Before tunning*\n",
        "    \n",
        "   - Accuracy: 0.9246\n",
        "   \n",
        "   - CV Score: 0.9069\n",
        "* General Remark: the standardization rather seems to increase the accuracy (surely because, with standard values, errors in calculus when running algorithms decrease)  \n",
        "\n",
        "*After tunning*\n",
        "\n",
        "   - Accuracy:  0.9365\n",
        "   \n",
        "   - CV Score: 0.9334\n",
        " \n",
        "\n",
        "\n",
        "We see that the accuracy of the model increase.\n",
        "   \n",
        "    "
      ],
      "metadata": {
        "id": "HeTxtpiQRF09"
      }
    },
    {
      "cell_type": "markdown",
      "source": [
        "\n",
        "## Model evaluation: \n",
        "## Cross Validation and Metrics\n",
        "After training the model, we can evaluate its performance on the testing data. We can use various metrics like accuracy, precision, recall, F1 score, confusion matrix  or ROC curve to evaluate the model's performance."
      ],
      "metadata": {
        "id": "N9tG722C8bQu"
      }
    },
    {
      "cell_type": "code",
      "source": [
        "# Measuring accuracy on Testing Data\n",
        "\n",
        "print(metrics.classification_report(y_valid, y_pred))\n",
        "print(metrics.confusion_matrix(y_valid, y_pred))\n",
        "\n",
        "# Printing the Overall Accuracy of the model\n",
        "F1_Score=metrics.f1_score(y_valid, y_pred, average='weighted')\n",
        "print('Accuracy of the model on validation Sample Data:', round(F1_Score,2))\n",
        "\n",
        "# Plotting the feature importance for Top 9 most important columns\n",
        "%matplotlib inline\n",
        "feature_importances = pd.Series(random_search.best_estimator_.feature_importances_, index=Predictors)\n",
        "feature_importances.nlargest(9).plot(kind='barh')\n",
        "\n",
        "\n",
        "# Running 5-Fold Cross validation on a given algorithm (ExtraTreesClassifier)\n",
        "# Passing full data X and y because the K-fold will split the data and automatically choose train/test\n",
        "Accuracy_Values=cross_val_score(random_search.best_estimator_, X , y, cv=5, scoring='f1_weighted')\n",
        "print('\\nAccuracy values for 5-fold Cross Validation:\\n',Accuracy_Values)\n",
        "print('\\nFinal Average Accuracy of the model:', round(Accuracy_Values.mean(),2))"
      ],
      "metadata": {
        "colab": {
          "base_uri": "https://localhost:8080/",
          "height": 569
        },
        "id": "Zv1bqs8W9GFY",
        "outputId": "92c204a1-9e5d-410d-8f36-763d36e36b8a"
      },
      "execution_count": 119,
      "outputs": [
        {
          "output_type": "stream",
          "name": "stdout",
          "text": [
            "              precision    recall  f1-score   support\n",
            "\n",
            "           0       0.96      0.07      0.13      1068\n",
            "           1       0.94      1.00      0.97     14669\n",
            "\n",
            "    accuracy                           0.94     15737\n",
            "   macro avg       0.95      0.53      0.55     15737\n",
            "weighted avg       0.94      0.94      0.91     15737\n",
            "\n",
            "[[   73   995]\n",
            " [    3 14666]]\n",
            "Accuracy of the model on validation Sample Data: 0.91\n",
            "\n",
            "Accuracy values for 5-fold Cross Validation:\n",
            " [0.90354926 0.90184676 0.9010764  0.90148007 0.90254031]\n",
            "\n",
            "Final Average Accuracy of the model: 0.9\n"
          ]
        },
        {
          "output_type": "display_data",
          "data": {
            "text/plain": [
              "<Figure size 432x288 with 1 Axes>"
            ],
            "image/png": "[encoded data removed]"
          },
          "metadata": {
            "needs_background": "light"
          }
        }
      ]
    },
    {
      "cell_type": "markdown",
      "source": [
        "## Deployment of the Model"
      ],
      "metadata": {
        "id": "_pVnNmuX2zbb"
      }
    },
    {
      "cell_type": "code",
      "source": [],
      "metadata": {
        "id": "SmPEF8cHR9Dw"
      },
      "execution_count": null,
      "outputs": []
    },
    {
      "cell_type": "markdown",
      "source": [
        "## other approach: Performance Improvement\n",
        "\n",
        "### 1. Without reducting the numbers of features"
      ],
      "metadata": {
        "id": "3nF8MT1UZefa"
      }
    },
    {
      "cell_type": "code",
      "source": [
        "data_set=data.copy()\n",
        "# Separate the features and target variable\n",
        "X = data.drop(['status_label'], axis=1)\n",
        "y = data['status_label']\n",
        "\n",
        "### Sandardization of data ###\n",
        "# Choose either standardization or Normalization\n",
        "\n",
        "# Choose between standardization and MinMAx normalization\n",
        "PredictorScaler2=StandardScaler()\n",
        "#PredictorScaler=MinMaxScaler()\n",
        "\n",
        "# Storing the fit object for later reference\n",
        "PredictorScalerFit2=PredictorScaler2.fit(X)\n",
        "\n",
        "# Generating the standardized values of X\n",
        "X2=PredictorScalerFit2.transform(X)\n",
        "\n",
        "# Split the data into training and testing set\n",
        "X_train2, X_valid2, y_train2, y_valid2 = train_test_split(X2, y, test_size=0.2, random_state=42)"
      ],
      "metadata": {
        "id": "M7D7LV8zZdCU"
      },
      "execution_count": 59,
      "outputs": []
    },
    {
      "cell_type": "code",
      "source": [
        "\n",
        "models={\n",
        "    'Logistic Regression':LogisticRegression(),\n",
        "    'K-Nearest Neighbors':KNeighborsClassifier(),\n",
        "    'Decision Tree':DecisionTreeClassifier(),\n",
        "    'Extra Tree' : ExtraTreesClassifier(),\n",
        "    'Support Vector Machine(Linear Kernel)': LinearSVC(),\n",
        "    'Support Vector Machine(Non Linear Kernel)':SVC(),\n",
        "    'Neural Network':MLPClassifier(),\n",
        "     'Random Forest':RandomForestClassifier(),\n",
        "    'Gradient Boosting':GradientBoostingClassifier()\n",
        "}"
      ],
      "metadata": {
        "id": "3POs70RaZdIy"
      },
      "execution_count": 60,
      "outputs": []
    },
    {
      "cell_type": "code",
      "source": [
        "original_results=[]\n",
        "for name,model in models.items():\n",
        "    model.fit(X_train2,y_train2)\n",
        "    score=model.score(X_valid2,y_valid2)\n",
        "    original_results.append(score)\n",
        "    print(name+\":\"+str(score))"
      ],
      "metadata": {
        "colab": {
          "base_uri": "https://localhost:8080/"
        },
        "id": "OEPHzY05bJzq",
        "outputId": "835e76e3-af59-488a-b294-3e7d9b70842d"
      },
      "execution_count": 21,
      "outputs": [
        {
          "output_type": "stream",
          "name": "stdout",
          "text": [
            "Logistic Regression:0.9324324324324325\n",
            "K-Nearest Neighbors:0.9634340222575517\n",
            "Decision Tree:0.93879173290938\n",
            "Extra Tree:0.9713831478537361\n",
            "Support Vector Machine(Linear Kernel):0.9324324324324325\n",
            "Support Vector Machine(Non Linear Kernel):0.9324324324324325\n",
            "Neural Network:0.9364069952305246\n",
            "Random Forest:0.9578696343402225\n",
            "Gradient Boosting:0.9419713831478538\n"
          ]
        }
      ]
    },
    {
      "cell_type": "markdown",
      "source": [
        "* Comments: With Extra Tree, we reach an accuracy of 0.97"
      ],
      "metadata": {
        "id": "rcltoJndpN38"
      }
    },
    {
      "cell_type": "code",
      "source": [
        "# Measuring accuracy on Testing Data\n",
        "\n",
        "xrf_clf2=models['Extra Tree']\n",
        "y_predict = xrf_clf2.predict(X_valid2)\n",
        "print(metrics.classification_report(y_valid2, y_predict))\n",
        "print(metrics.confusion_matrix(y_valid2, y_predict))\n",
        "\n",
        "# Printing the Overall Accuracy of the model\n",
        "F1_Score=metrics.f1_score(y_valid2, y_predict, average='weighted')\n",
        "print('Accuracy of the model on validation Sample Data:', round(F1_Score,2))\n",
        "\n",
        "# Plotting the feature importance for Top 9 most important columns\n",
        "%matplotlib inline\n",
        "feature_importances = pd.Series(xrf_clf2.feature_importances_, index=X.columns)\n",
        "feature_importances.nlargest(9).plot(kind='barh')\n",
        "\n",
        "\n",
        "# Running 10-Fold Cross validation on a given algorithm (ExtraTreesClassifier)\n",
        "# Passing full data X and y because the K-fold will split the data and automatically choose train/test\n",
        "Accuracy_Values=cross_val_score(xrf_clf2, X2 , y, cv=10, scoring='f1_weighted')\n",
        "print('\\nAccuracy values for 10-fold Cross Validation:\\n',Accuracy_Values)\n",
        "print('\\nFinal Average Accuracy of the model:', round(Accuracy_Values.mean(),2))"
      ],
      "metadata": {
        "colab": {
          "base_uri": "https://localhost:8080/",
          "height": 586
        },
        "id": "EQFcbQknhRCp",
        "outputId": "5a835757-0bb9-4aef-b127-4cf15a2119b7"
      },
      "execution_count": 67,
      "outputs": [
        {
          "output_type": "stream",
          "name": "stdout",
          "text": [
            "              precision    recall  f1-score   support\n",
            "\n",
            "           0       1.00      0.57      0.73        87\n",
            "           1       0.97      1.00      0.98      1171\n",
            "\n",
            "    accuracy                           0.97      1258\n",
            "   macro avg       0.98      0.79      0.86      1258\n",
            "weighted avg       0.97      0.97      0.97      1258\n",
            "\n",
            "[[  50   37]\n",
            " [   0 1171]]\n",
            "Accuracy of the model on validation Sample Data: 0.97\n",
            "\n",
            "Accuracy values for 10-fold Cross Validation:\n",
            " [0.93547037 0.93822074 0.92901254 0.91365602 0.91183271 0.91040869\n",
            " 0.9222904  0.914779   0.91040869 0.90246803]\n",
            "\n",
            "Final Average Accuracy of the model: 0.92\n"
          ]
        },
        {
          "output_type": "display_data",
          "data": {
            "text/plain": [
              "<Figure size 432x288 with 1 Axes>"
            ],
            "image/png": "[encoded data removed]"
          },
          "metadata": {
            "needs_background": "light"
          }
        }
      ]
    },
    {
      "cell_type": "markdown",
      "source": [
        "### 2. PCA over the data to retain the most relevant information/feature"
      ],
      "metadata": {
        "id": "Z99PM7bndaXk"
      }
    },
    {
      "cell_type": "code",
      "source": [
        "pca = PCA(n_components = 0.999)  #(n_components=0.99)\n",
        "result = pca.fit_transform(X)"
      ],
      "metadata": {
        "id": "yzL2D6GucH6C"
      },
      "execution_count": 27,
      "outputs": []
    },
    {
      "cell_type": "code",
      "source": [
        "print(\"Cumulative Variances (Percentage):\")\n",
        "\n",
        "components = len(pca.explained_variance_ratio_)\n",
        "# Make the scree plot\n",
        "y_h=np.cumsum(pca.explained_variance_ratio_ * 100)\n",
        "y_h = np.insert(y_h,0, 0)\n",
        "plt.plot(range(1, components + 2), y_h)\n",
        "plt.xlabel(\"Number of components\")\n",
        "plt.ylabel(\"Explained variance (%)\")"
      ],
      "metadata": {
        "colab": {
          "base_uri": "https://localhost:8080/",
          "height": 315
        },
        "id": "HNMqF1w7dmqV",
        "outputId": "730e1e31-e849-4f74-ac43-b346c9822db8"
      },
      "execution_count": 28,
      "outputs": [
        {
          "output_type": "stream",
          "name": "stdout",
          "text": [
            "Cumulative Variances (Percentage):\n"
          ]
        },
        {
          "output_type": "execute_result",
          "data": {
            "text/plain": [
              "Text(0, 0.5, 'Explained variance (%)')"
            ]
          },
          "metadata": {},
          "execution_count": 28
        },
        {
          "output_type": "display_data",
          "data": {
            "text/plain": [
              "<Figure size 432x288 with 1 Axes>"
            ],
            "image/png": "[encoded data removed]"
          },
          "metadata": {
            "needs_background": "light"
          }
        }
      ]
    },
    {
      "cell_type": "markdown",
      "source": [
        "### Comments: \n",
        "> 6 (max 7) components explained the essential of information stored by the data/features"
      ],
      "metadata": {
        "id": "witAJbpxeivN"
      }
    },
    {
      "cell_type": "code",
      "source": [
        "n_components=7\n",
        "pca=PCA(n_components=n_components)\n",
        "X_reduced=pd.DataFrame(pca.fit_transform(X),columns=['PCA'+str(i) for i in range(1,n_components+1)])\n",
        "\n",
        "# Split the data into training and testing set\n",
        "X_train_reduced,X_valid_reduced, y_train2, y_valid2 =train_test_split(X_reduced, y, test_size=0.2, random_state=42)"
      ],
      "metadata": {
        "id": "8ix3zfrmeBOP"
      },
      "execution_count": 55,
      "outputs": []
    },
    {
      "cell_type": "code",
      "source": [
        "import plotly.express as px\n",
        "fig=px.bar(\n",
        "    x=['PCA'+str(i) for i in range(1,n_components+1)],\n",
        "          y=pca.explained_variance_ratio_,\n",
        "          labels={'x':'Principal Component','y':'Variance Ratio'},\n",
        "          color=pca.explained_variance_ratio_,\n",
        "          color_continuous_scale=[(0,'lightblue'),(1,'darkblue')],\n",
        "          title='Proportion of Variance in Principal Components')\n",
        "fig.show()"
      ],
      "metadata": {
        "colab": {
          "base_uri": "https://localhost:8080/",
          "height": 542
        },
        "id": "7jD3ZExVfqW_",
        "outputId": "4de26e5a-585e-46b8-a4c9-21f7a64fdf63"
      },
      "execution_count": 56,
      "outputs": [
        {
          "output_type": "display_data",
          "data": {
            "text/html": [
              "<html>\n",
              "<head><meta charset=\"utf-8\" /></head>\n",
              "<body>\n",
              "    <div>            <script src=\"https://cdnjs.cloudflare.com/ajax/libs/mathjax/2.7.5/MathJax.js?config=TeX-AMS-MML_SVG\"></script><script type=\"text/javascript\">if (window.MathJax && window.MathJax.Hub && window.MathJax.Hub.Config) {window.MathJax.Hub.Config({SVG: {font: \"STIX-Web\"}});}</script>                <script type=\"text/javascript\">window.PlotlyConfig = {MathJaxConfig: 'local'};</script>\n",
              "        <script src=\"https://cdn.plot.ly/plotly-2.18.2.min.js\"></script>                <div id=\"de6b0f58-81f9-4545-9f2b-15b2b49c91cd\" class=\"plotly-graph-div\" style=\"height:525px; width:100%;\"></div>            <script type=\"text/javascript\">                                    window.PLOTLYENV=window.PLOTLYENV || {};                                    if (document.getElementById(\"de6b0f58-81f9-4545-9f2b-15b2b49c91cd\")) {                    Plotly.newPlot(                        \"de6b0f58-81f9-4545-9f2b-15b2b49c91cd\",                        [{\"alignmentgroup\":\"True\",\"hovertemplate\":\"Principal Component=%{x}<br>Variance Ratio=%{y}<br>color=%{marker.color}<extra></extra>\",\"legendgroup\":\"\",\"marker\":{\"color\":[0.8354780364314591,0.08737054657578604,0.053399998879635244,0.012243244487634305,0.004780822960120709,0.0023336302734737763,0.001897332669828366],\"coloraxis\":\"coloraxis\",\"pattern\":{\"shape\":\"\"}},\"name\":\"\",\"offsetgroup\":\"\",\"orientation\":\"v\",\"showlegend\":false,\"textposition\":\"auto\",\"x\":[\"PCA1\",\"PCA2\",\"PCA3\",\"PCA4\",\"PCA5\",\"PCA6\",\"PCA7\"],\"xaxis\":\"x\",\"y\":[0.8354780364314591,0.08737054657578604,0.053399998879635244,0.012243244487634305,0.004780822960120709,0.0023336302734737763,0.001897332669828366],\"yaxis\":\"y\",\"type\":\"bar\"}],                        {\"template\":{\"data\":{\"histogram2dcontour\":[{\"type\":\"histogram2dcontour\",\"colorbar\":{\"outlinewidth\":0,\"ticks\":\"\"},\"colorscale\":[[0.0,\"#0d0887\"],[0.1111111111111111,\"#46039f\"],[0.2222222222222222,\"#7201a8\"],[0.3333333333333333,\"#9c179e\"],[0.4444444444444444,\"#bd3786\"],[0.5555555555555556,\"#d8576b\"],[0.6666666666666666,\"#ed7953\"],[0.7777777777777778,\"#fb9f3a\"],[0.8888888888888888,\"#fdca26\"],[1.0,\"#f0f921\"]]}],\"choropleth\":[{\"type\":\"choropleth\",\"colorbar\":{\"outlinewidth\":0,\"ticks\":\"\"}}],\"histogram2d\":[{\"type\":\"histogram2d\",\"colorbar\":{\"outlinewidth\":0,\"ticks\":\"\"},\"colorscale\":[[0.0,\"#0d0887\"],[0.1111111111111111,\"#46039f\"],[0.2222222222222222,\"#7201a8\"],[0.3333333333333333,\"#9c179e\"],[0.4444444444444444,\"#bd3786\"],[0.5555555555555556,\"#d8576b\"],[0.6666666666666666,\"#ed7953\"],[0.7777777777777778,\"#fb9f3a\"],[0.8888888888888888,\"#fdca26\"],[1.0,\"#f0f921\"]]}],\"heatmap\":[{\"type\":\"heatmap\",\"colorbar\":{\"outlinewidth\":0,\"ticks\":\"\"},\"colorscale\":[[0.0,\"#0d0887\"],[0.1111111111111111,\"#46039f\"],[0.2222222222222222,\"#7201a8\"],[0.3333333333333333,\"#9c179e\"],[0.4444444444444444,\"#bd3786\"],[0.5555555555555556,\"#d8576b\"],[0.6666666666666666,\"#ed7953\"],[0.7777777777777778,\"#fb9f3a\"],[0.8888888888888888,\"#fdca26\"],[1.0,\"#f0f921\"]]}],\"heatmapgl\":[{\"type\":\"heatmapgl\",\"colorbar\":{\"outlinewidth\":0,\"ticks\":\"\"},\"colorscale\":[[0.0,\"#0d0887\"],[0.1111111111111111,\"#46039f\"],[0.2222222222222222,\"#7201a8\"],[0.3333333333333333,\"#9c179e\"],[0.4444444444444444,\"#bd3786\"],[0.5555555555555556,\"#d8576b\"],[0.6666666666666666,\"#ed7953\"],[0.7777777777777778,\"#fb9f3a\"],[0.8888888888888888,\"#fdca26\"],[1.0,\"#f0f921\"]]}],\"contourcarpet\":[{\"type\":\"contourcarpet\",\"colorbar\":{\"outlinewidth\":0,\"ticks\":\"\"}}],\"contour\":[{\"type\":\"contour\",\"colorbar\":{\"outlinewidth\":0,\"ticks\":\"\"},\"colorscale\":[[0.0,\"#0d0887\"],[0.1111111111111111,\"#46039f\"],[0.2222222222222222,\"#7201a8\"],[0.3333333333333333,\"#9c179e\"],[0.4444444444444444,\"#bd3786\"],[0.5555555555555556,\"#d8576b\"],[0.6666666666666666,\"#ed7953\"],[0.7777777777777778,\"#fb9f3a\"],[0.8888888888888888,\"#fdca26\"],[1.0,\"#f0f921\"]]}],\"surface\":[{\"type\":\"surface\",\"colorbar\":{\"outlinewidth\":0,\"ticks\":\"\"},\"colorscale\":[[0.0,\"#0d0887\"],[0.1111111111111111,\"#46039f\"],[0.2222222222222222,\"#7201a8\"],[0.3333333333333333,\"#9c179e\"],[0.4444444444444444,\"#bd3786\"],[0.5555555555555556,\"#d8576b\"],[0.6666666666666666,\"#ed7953\"],[0.7777777777777778,\"#fb9f3a\"],[0.8888888888888888,\"#fdca26\"],[1.0,\"#f0f921\"]]}],\"mesh3d\":[{\"type\":\"mesh3d\",\"colorbar\":{\"outlinewidth\":0,\"ticks\":\"\"}}],\"scatter\":[{\"fillpattern\":{\"fillmode\":\"overlay\",\"size\":10,\"solidity\":0.2},\"type\":\"scatter\"}],\"parcoords\":[{\"type\":\"parcoords\",\"line\":{\"colorbar\":{\"outlinewidth\":0,\"ticks\":\"\"}}}],\"scatterpolargl\":[{\"type\":\"scatterpolargl\",\"marker\":{\"colorbar\":{\"outlinewidth\":0,\"ticks\":\"\"}}}],\"bar\":[{\"error_x\":{\"color\":\"#2a3f5f\"},\"error_y\":{\"color\":\"#2a3f5f\"},\"marker\":{\"line\":{\"color\":\"#E5ECF6\",\"width\":0.5},\"pattern\":{\"fillmode\":\"overlay\",\"size\":10,\"solidity\":0.2}},\"type\":\"bar\"}],\"scattergeo\":[{\"type\":\"scattergeo\",\"marker\":{\"colorbar\":{\"outlinewidth\":0,\"ticks\":\"\"}}}],\"scatterpolar\":[{\"type\":\"scatterpolar\",\"marker\":{\"colorbar\":{\"outlinewidth\":0,\"ticks\":\"\"}}}],\"histogram\":[{\"marker\":{\"pattern\":{\"fillmode\":\"overlay\",\"size\":10,\"solidity\":0.2}},\"type\":\"histogram\"}],\"scattergl\":[{\"type\":\"scattergl\",\"marker\":{\"colorbar\":{\"outlinewidth\":0,\"ticks\":\"\"}}}],\"scatter3d\":[{\"type\":\"scatter3d\",\"line\":{\"colorbar\":{\"outlinewidth\":0,\"ticks\":\"\"}},\"marker\":{\"colorbar\":{\"outlinewidth\":0,\"ticks\":\"\"}}}],\"scattermapbox\":[{\"type\":\"scattermapbox\",\"marker\":{\"colorbar\":{\"outlinewidth\":0,\"ticks\":\"\"}}}],\"scatterternary\":[{\"type\":\"scatterternary\",\"marker\":{\"colorbar\":{\"outlinewidth\":0,\"ticks\":\"\"}}}],\"scattercarpet\":[{\"type\":\"scattercarpet\",\"marker\":{\"colorbar\":{\"outlinewidth\":0,\"ticks\":\"\"}}}],\"carpet\":[{\"aaxis\":{\"endlinecolor\":\"#2a3f5f\",\"gridcolor\":\"white\",\"linecolor\":\"white\",\"minorgridcolor\":\"white\",\"startlinecolor\":\"#2a3f5f\"},\"baxis\":{\"endlinecolor\":\"#2a3f5f\",\"gridcolor\":\"white\",\"linecolor\":\"white\",\"minorgridcolor\":\"white\",\"startlinecolor\":\"#2a3f5f\"},\"type\":\"carpet\"}],\"table\":[{\"cells\":{\"fill\":{\"color\":\"#EBF0F8\"},\"line\":{\"color\":\"white\"}},\"header\":{\"fill\":{\"color\":\"#C8D4E3\"},\"line\":{\"color\":\"white\"}},\"type\":\"table\"}],\"barpolar\":[{\"marker\":{\"line\":{\"color\":\"#E5ECF6\",\"width\":0.5},\"pattern\":{\"fillmode\":\"overlay\",\"size\":10,\"solidity\":0.2}},\"type\":\"barpolar\"}],\"pie\":[{\"automargin\":true,\"type\":\"pie\"}]},\"layout\":{\"autotypenumbers\":\"strict\",\"colorway\":[\"#636efa\",\"#EF553B\",\"#00cc96\",\"#ab63fa\",\"#FFA15A\",\"#19d3f3\",\"#FF6692\",\"#B6E880\",\"#FF97FF\",\"#FECB52\"],\"font\":{\"color\":\"#2a3f5f\"},\"hovermode\":\"closest\",\"hoverlabel\":{\"align\":\"left\"},\"paper_bgcolor\":\"white\",\"plot_bgcolor\":\"#E5ECF6\",\"polar\":{\"bgcolor\":\"#E5ECF6\",\"angularaxis\":{\"gridcolor\":\"white\",\"linecolor\":\"white\",\"ticks\":\"\"},\"radialaxis\":{\"gridcolor\":\"white\",\"linecolor\":\"white\",\"ticks\":\"\"}},\"ternary\":{\"bgcolor\":\"#E5ECF6\",\"aaxis\":{\"gridcolor\":\"white\",\"linecolor\":\"white\",\"ticks\":\"\"},\"baxis\":{\"gridcolor\":\"white\",\"linecolor\":\"white\",\"ticks\":\"\"},\"caxis\":{\"gridcolor\":\"white\",\"linecolor\":\"white\",\"ticks\":\"\"}},\"coloraxis\":{\"colorbar\":{\"outlinewidth\":0,\"ticks\":\"\"}},\"colorscale\":{\"sequential\":[[0.0,\"#0d0887\"],[0.1111111111111111,\"#46039f\"],[0.2222222222222222,\"#7201a8\"],[0.3333333333333333,\"#9c179e\"],[0.4444444444444444,\"#bd3786\"],[0.5555555555555556,\"#d8576b\"],[0.6666666666666666,\"#ed7953\"],[0.7777777777777778,\"#fb9f3a\"],[0.8888888888888888,\"#fdca26\"],[1.0,\"#f0f921\"]],\"sequentialminus\":[[0.0,\"#0d0887\"],[0.1111111111111111,\"#46039f\"],[0.2222222222222222,\"#7201a8\"],[0.3333333333333333,\"#9c179e\"],[0.4444444444444444,\"#bd3786\"],[0.5555555555555556,\"#d8576b\"],[0.6666666666666666,\"#ed7953\"],[0.7777777777777778,\"#fb9f3a\"],[0.8888888888888888,\"#fdca26\"],[1.0,\"#f0f921\"]],\"diverging\":[[0,\"#8e0152\"],[0.1,\"#c51b7d\"],[0.2,\"#de77ae\"],[0.3,\"#f1b6da\"],[0.4,\"#fde0ef\"],[0.5,\"#f7f7f7\"],[0.6,\"#e6f5d0\"],[0.7,\"#b8e186\"],[0.8,\"#7fbc41\"],[0.9,\"#4d9221\"],[1,\"#276419\"]]},\"xaxis\":{\"gridcolor\":\"white\",\"linecolor\":\"white\",\"ticks\":\"\",\"title\":{\"standoff\":15},\"zerolinecolor\":\"white\",\"automargin\":true,\"zerolinewidth\":2},\"yaxis\":{\"gridcolor\":\"white\",\"linecolor\":\"white\",\"ticks\":\"\",\"title\":{\"standoff\":15},\"zerolinecolor\":\"white\",\"automargin\":true,\"zerolinewidth\":2},\"scene\":{\"xaxis\":{\"backgroundcolor\":\"#E5ECF6\",\"gridcolor\":\"white\",\"linecolor\":\"white\",\"showbackground\":true,\"ticks\":\"\",\"zerolinecolor\":\"white\",\"gridwidth\":2},\"yaxis\":{\"backgroundcolor\":\"#E5ECF6\",\"gridcolor\":\"white\",\"linecolor\":\"white\",\"showbackground\":true,\"ticks\":\"\",\"zerolinecolor\":\"white\",\"gridwidth\":2},\"zaxis\":{\"backgroundcolor\":\"#E5ECF6\",\"gridcolor\":\"white\",\"linecolor\":\"white\",\"showbackground\":true,\"ticks\":\"\",\"zerolinecolor\":\"white\",\"gridwidth\":2}},\"shapedefaults\":{\"line\":{\"color\":\"#2a3f5f\"}},\"annotationdefaults\":{\"arrowcolor\":\"#2a3f5f\",\"arrowhead\":0,\"arrowwidth\":1},\"geo\":{\"bgcolor\":\"white\",\"landcolor\":\"#E5ECF6\",\"subunitcolor\":\"white\",\"showland\":true,\"showlakes\":true,\"lakecolor\":\"white\"},\"title\":{\"x\":0.05},\"mapbox\":{\"style\":\"light\"}}},\"xaxis\":{\"anchor\":\"y\",\"domain\":[0.0,1.0],\"title\":{\"text\":\"Principal Component\"}},\"yaxis\":{\"anchor\":\"x\",\"domain\":[0.0,1.0],\"title\":{\"text\":\"Variance Ratio\"}},\"coloraxis\":{\"colorbar\":{\"title\":{\"text\":\"color\"}},\"colorscale\":[[0,\"lightblue\"],[1,\"darkblue\"]]},\"legend\":{\"tracegroupgap\":0},\"title\":{\"text\":\"Proportion of Variance in Principal Components\"},\"barmode\":\"relative\"},                        {\"responsive\": true}                    ).then(function(){\n",
              "                            \n",
              "var gd = document.getElementById('de6b0f58-81f9-4545-9f2b-15b2b49c91cd');\n",
              "var x = new MutationObserver(function (mutations, observer) {{\n",
              "        var display = window.getComputedStyle(gd).display;\n",
              "        if (!display || display === 'none') {{\n",
              "            console.log([gd, 'removed!']);\n",
              "            Plotly.purge(gd);\n",
              "            observer.disconnect();\n",
              "        }}\n",
              "}});\n",
              "\n",
              "// Listen for the removal of the full notebook cells\n",
              "var notebookContainer = gd.closest('#notebook-container');\n",
              "if (notebookContainer) {{\n",
              "    x.observe(notebookContainer, {childList: true});\n",
              "}}\n",
              "\n",
              "// Listen for the clearing of the current output cell\n",
              "var outputEl = gd.closest('.output');\n",
              "if (outputEl) {{\n",
              "    x.observe(outputEl, {childList: true});\n",
              "}}\n",
              "\n",
              "                        })                };                            </script>        </div>\n",
              "</body>\n",
              "</html>"
            ]
          },
          "metadata": {}
        }
      ]
    },
    {
      "cell_type": "code",
      "source": [
        "# training\n",
        "models2={\n",
        "    'Logistic Regression':LogisticRegression(),\n",
        "    'K-Nearest Neighbors':KNeighborsClassifier(),\n",
        "    'Decision Tree':DecisionTreeClassifier(),\n",
        "    'Extra Tree' : ExtraTreesClassifier(),\n",
        "    'Support Vector Machine(Linear Kernel)': LinearSVC(),\n",
        "    'Support Vector Machine(Non Linear Kernel)':SVC(),\n",
        "    'Neural Network':MLPClassifier(),\n",
        "     'Random Forest':RandomForestClassifier(),\n",
        "    'Gradient Boosting':GradientBoostingClassifier()\n",
        "}"
      ],
      "metadata": {
        "id": "AkuWHdYPfrTJ"
      },
      "execution_count": 57,
      "outputs": []
    },
    {
      "cell_type": "code",
      "source": [
        "reduced_results=[]\n",
        "for name,model in models2.items():\n",
        "    model.fit(X_train_reduced,y_train2)\n",
        "    score=model.score(X_valid_reduced,y_valid2)\n",
        "    reduced_results.append(score)\n",
        "    print(name+\":\"+str(score))"
      ],
      "metadata": {
        "colab": {
          "base_uri": "https://localhost:8080/"
        },
        "id": "s1sDCQkJgMe1",
        "outputId": "2325a357-587b-40a1-eb6a-18c3b7bb5f08"
      },
      "execution_count": 58,
      "outputs": [
        {
          "output_type": "stream",
          "name": "stdout",
          "text": [
            "Logistic Regression:0.931637519872814\n",
            "K-Nearest Neighbors:0.9507154213036566\n",
            "Decision Tree:0.9324324324324325\n",
            "Extra Tree:0.9602543720190779\n",
            "Support Vector Machine(Linear Kernel):0.7726550079491256\n",
            "Support Vector Machine(Non Linear Kernel):0.9308426073131956\n",
            "Neural Network:0.9292527821939587\n",
            "Random Forest:0.9483306836248012\n",
            "Gradient Boosting:0.9372019077901431\n"
          ]
        }
      ]
    },
    {
      "cell_type": "markdown",
      "source": [
        "* Comments: With Extra Tree, we reach an accuracy of 0.96"
      ],
      "metadata": {
        "id": "q02vDHyGpZc2"
      }
    },
    {
      "cell_type": "code",
      "source": [
        "# Measuring accuracy on Testing Data\n",
        "\n",
        "xrf_clf2=models2['Extra Tree']\n",
        "y_predict = xrf_clf2.predict(X_valid_reduced)\n",
        "print(metrics.classification_report(y_valid2, y_predict))\n",
        "print(metrics.confusion_matrix(y_valid2, y_predict))\n",
        "\n",
        "# Printing the Overall Accuracy of the model\n",
        "F1_Score=metrics.f1_score(y_valid2, y_predict, average='weighted')\n",
        "print('Accuracy of the model on validation Sample Data:', round(F1_Score,2))\n",
        "\n",
        "# Plotting the feature importance for Top 6 most important columns\n",
        "%matplotlib inline\n",
        "feature_importances = pd.Series(xrf_clf2.feature_importances_, index=X_reduced.columns)\n",
        "feature_importances.nlargest(6).plot(kind='barh')\n",
        "\n",
        "\n",
        "# Running 10-Fold Cross validation on a given algorithm (ExtraTreesClassifier)\n",
        "# Passing full data X and y because the K-fold will split the data and automatically choose train/test\n",
        "\n",
        "Accuracy_Values=cross_val_score(xrf_clf2, X_reduced , y, cv=10, scoring='f1_weighted')\n",
        "print('\\nAccuracy values for 10-fold Cross Validation:\\n',Accuracy_Values)\n",
        "print('\\nFinal Average Accuracy of the model:', round(Accuracy_Values.mean(),2))"
      ],
      "metadata": {
        "colab": {
          "base_uri": "https://localhost:8080/",
          "height": 586
        },
        "id": "O9RU_wtRghQ-",
        "outputId": "bf77de54-ef44-400b-c240-6fb2507e1082"
      },
      "execution_count": 66,
      "outputs": [
        {
          "output_type": "stream",
          "name": "stdout",
          "text": [
            "              precision    recall  f1-score   support\n",
            "\n",
            "           0       1.00      0.43      0.60        87\n",
            "           1       0.96      1.00      0.98      1171\n",
            "\n",
            "    accuracy                           0.96      1258\n",
            "   macro avg       0.98      0.71      0.79      1258\n",
            "weighted avg       0.96      0.96      0.95      1258\n",
            "\n",
            "[[  37   50]\n",
            " [   0 1171]]\n",
            "Accuracy of the model on validation Sample Data: 0.95\n",
            "\n",
            "Accuracy values for 10-fold Cross Validation:\n",
            " [0.93385802 0.93509281 0.91458948 0.91180346 0.90719233 0.914779\n",
            " 0.91742211 0.90765525 0.92557972 0.89926027]\n",
            "\n",
            "Final Average Accuracy of the model: 0.92\n"
          ]
        },
        {
          "output_type": "display_data",
          "data": {
            "text/plain": [
              "<Figure size 432x288 with 1 Axes>"
            ],
            "image/png": "[encoded data removed]"
          },
          "metadata": {
            "needs_background": "light"
          }
        }
      ]
    },
    {
      "cell_type": "code",
      "source": [],
      "metadata": {
        "id": "ca4nrh3Ok315"
      },
      "execution_count": null,
      "outputs": []
    },
    {
      "cell_type": "markdown",
      "source": [
        "## Final Comments:\n",
        "The cross-validation is used to detect overfitting, ie, failing to generalize a pattern (regularization purpose).\n",
        "\n",
        "The average Accuracy value for 10-fold Cross Validation increase in this approach when using PCA (just select the essential information/features which explained the entire data). It is an alternative to the approach we used to select important features... Moreover, using only few components, speed us the execution of some algorithms.\n",
        "\n",
        "#### Next:\n",
        "- >  Grid Search for Hyperparameters Tuning in this approach (similar to the one perform earlier)\n",
        "\n",
        "- > Model deployement (saving using the library Pickle for example) and serve the applications which need this prediction:"
      ],
      "metadata": {
        "id": "fr_-4rljlv69"
      }
    },
    {
      "cell_type": "markdown",
      "source": [
        "## Final Model and Deployment: \n",
        "\n",
        "We can choose the following pipeline based on our previous work:\n",
        "\n",
        "- Load the data and  one-hot encoding of the categorical target variable\n",
        "\n",
        "- Preprocessing : remove unnecessary columns,Replace missing values with the mean or the median, perform PCA with 7 components (by default standardize the data), if necessary splitting the data set in train/valid set\n",
        "\n",
        "- Fitting : using ExtraTreeClassifier with 10-fold cross validation (If data not splitted earlier) just for regularization purpose.\n",
        "\n",
        "- Prediction : Use the fitted model to predict over future unseen data.\n",
        "\n",
        "Possible in Object-oriented programming:"
      ],
      "metadata": {
        "id": "HP7iMKO3qgnG"
      }
    },
    {
      "cell_type": "code",
      "source": [
        "#Load the data\n",
        "pathname=\"\"\n",
        "data=pd.read_csv(pathname)\n",
        "\n",
        "# Convert categorical variables to numerical variables\n",
        "data['status_label'] = data['status_label'].apply(lambda x: 1 if x == 'alive' else 0)\n",
        "# Separate the features and target variable\n",
        "X = data.drop(['status_label'], axis=1)\n",
        "y = data['status_label']\n",
        "\n",
        "n_components=7\n",
        "\n",
        "def preprocess(X):\n",
        "  # Drop irrelevant columns\n",
        "  X.drop(['company_name', 'year'], axis=1, inplace=True)\n",
        "  # fill na values\n",
        "  X.fillna(data.median(), inplace=True)\n",
        "  return X\n",
        "\n",
        "def fit(X,y):\n",
        "  # define the pca\n",
        "  pca=PCA(n_components=n_components)\n",
        "  # fit the pca over the data\n",
        "  X_reduced=pd.DataFrame(pca.fit_transform(X),columns=['PCA'+str(i) for i in range(1,n_components+1)])\n",
        "  # define the model with parameters from hyperparameters tunning\n",
        "  PredictionModel = ExtraTreesClassifier(n_estimators=50, min_samples_split=2,min_samples_leaf=1)\n",
        "  # Running 10-Fold Cross validation on the ExtraTreesClassifier\n",
        "  Accuracy_Values=cross_val_score(PredictionModel, X_reduced , y, cv=10, scoring='f1_weighted')\n",
        "  print('\\nAccuracy values for 10-fold Cross Validation:\\n',Accuracy_Values)\n",
        "  print('\\nFinal Average Accuracy of the model:', round(Accuracy_Values.mean(),2))\n",
        "  return  pca, PredictionModel\n",
        "\n",
        "# function prediction for new unseen samples\n",
        "def FunctionPredictResult(InputData,PredictionModel,pca=None): #,predictors,PredictorScalerFit=None):\n",
        "    # Preprocessing\n",
        "    DataForML = preprocess(InputData)  \n",
        "    # Generating the standardized values of X since it was done while model training also\n",
        "    #X=PredictorScalerFit.transform(DataForML)\n",
        "    X = pca.transform(DataForML)\n",
        "    # Genrating Predictions\n",
        "    Prediction=PredictionModel.predict(X)\n",
        "    # transform to DataFrame\n",
        "    PredictionResult=pd.DataFrame(Prediction, columns=\"status_label\")\n",
        "\n",
        "    return PredictionResult\n",
        "\n",
        "def save(PredictionModel,pathname):\n",
        "  return\n",
        "def load(pathname):\n",
        "  return"
      ],
      "metadata": {
        "id": "pH9x5awqnetx"
      },
      "execution_count": null,
      "outputs": []
    }
  ]
}